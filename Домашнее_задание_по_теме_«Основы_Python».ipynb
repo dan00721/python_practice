{
  "nbformat": 4,
  "nbformat_minor": 0,
  "metadata": {
    "colab": {
      "name": "Домашнее задание по теме «Основы Python».ipynb",
      "provenance": [],
      "collapsed_sections": [],
      "authorship_tag": "ABX9TyODsmo4nNCO5bfcq/aD4yR0",
      "include_colab_link": true
    },
    "kernelspec": {
      "name": "python3",
      "display_name": "Python 3"
    },
    "language_info": {
      "name": "python"
    }
  },
  "cells": [
    {
      "cell_type": "markdown",
      "metadata": {
        "id": "view-in-github",
        "colab_type": "text"
      },
      "source": [
        "<a href=\"https://colab.research.google.com/github/dan00721/python_practice/blob/main/%D0%94%D0%BE%D0%BC%D0%B0%D1%88%D0%BD%D0%B5%D0%B5_%D0%B7%D0%B0%D0%B4%D0%B0%D0%BD%D0%B8%D0%B5_%D0%BF%D0%BE_%D1%82%D0%B5%D0%BC%D0%B5_%C2%AB%D0%9E%D1%81%D0%BD%D0%BE%D0%B2%D1%8B_Python%C2%BB.ipynb\" target=\"_parent\"><img src=\"https://colab.research.google.com/assets/colab-badge.svg\" alt=\"Open In Colab\"/></a>"
      ]
    },
    {
      "cell_type": "markdown",
      "source": [
        "### Задание 1\n",
        "Даны 2 переменных, в которых хранятся строки произвольной длины: phrase_1 и phrase_2. Напишите код, который проверяет какая из этих строк длиннее."
      ],
      "metadata": {
        "id": "V8kojYJzQoET"
      }
    },
    {
      "cell_type": "code",
      "execution_count": null,
      "metadata": {
        "colab": {
          "base_uri": "https://localhost:8080/"
        },
        "id": "ZynHUMOyQQ5Y",
        "outputId": "fd66720e-75d4-4cfc-a47f-750844f3a646"
      },
      "outputs": [
        {
          "output_type": "stream",
          "name": "stdout",
          "text": [
            "Фраза 1 длиннее фразы 2\n"
          ]
        }
      ],
      "source": [
        "phrase_1 = 'Насколько проще было бы писать программы, если бы не заказчики'\n",
        "phrase_2 = '640Кб должно хватить для любых задач. Билл Гейтс (по легенде)'\n",
        "\n",
        "if len(phrase_1) > len(phrase_2):\n",
        "  print('Фраза 1 длиннее фразы 2')\n",
        "elif len(phrase_1) < len(phrase_2):\n",
        "  print('Фраза 2 длиннее фразы 1')\n",
        "else:\n",
        "  print('Фразы равной длины')"
      ]
    },
    {
      "cell_type": "markdown",
      "source": [
        "### Задание 2\n",
        "Дана переменная, в которой хранится четырехзначное число (год). Необходимо написать программу, которая выведет, является ли данный год високосным или обычным."
      ],
      "metadata": {
        "id": "meuSkQu-UMVX"
      }
    },
    {
      "cell_type": "code",
      "source": [
        "year = 2100\n",
        "\n",
        "if year % 400 == 0:\n",
        "  print('Високосный год')\n",
        "elif year % 4 == 0 and year % 100 != 0:\n",
        "  print('Високосный год')\n",
        "else:\n",
        "  print('Обычный год')"
      ],
      "metadata": {
        "colab": {
          "base_uri": "https://localhost:8080/"
        },
        "id": "cl7c_HfXURZB",
        "outputId": "43209814-c14c-4ae7-cac0-680bcdb60212"
      },
      "execution_count": null,
      "outputs": [
        {
          "output_type": "stream",
          "name": "stdout",
          "text": [
            "Обычный год\n"
          ]
        }
      ]
    },
    {
      "cell_type": "markdown",
      "source": [
        "### Задание 3\n",
        "Необходимо написать программу, которая будет запрашивать у пользователя месяц и дату рождения и выводить соответствующий знак зодиака."
      ],
      "metadata": {
        "id": "IVbtzYenVNqk"
      }
    },
    {
      "cell_type": "code",
      "source": [
        "day = int(input('Введите день: '))\n",
        "month = input('Введите месяц: ').lower()\n",
        "\n",
        "months = ['январь', 'февраль', 'март', 'апрель', 'май', 'июнь', 'июль', 'август', 'сентябрь', 'октябрь', 'ноябрь', 'декабрь']\n",
        "if 1 <=day <= 31 and month in months:\n",
        "\n",
        "  if (21<= day <= 31 and month == 'март') or (1<= day <= 20 and month == 'апрель'):\n",
        "    print('Ваш знак зодиака: Овен')\n",
        "  elif (21<= day <= 31 and month == 'апрель') or (1<= day <= 21 and month == 'май'):\n",
        "    print('Ваш знак зодиака: Телец')\n",
        "  elif (22<= day <= 31 and month == 'май') or (1<= day <= 21 and month == 'июнь'):\n",
        "    print('Ваш знак зодиака: Близнецы')\n",
        "  elif (22<= day <= 30 and month == 'июнь') or (1<= day <= 22 and month == 'июль'):\n",
        "    print('Ваш знак зодиака: Рак')\n",
        "  elif (23<= day <= 31 and month == 'июль') or (1<= day <= 23 and month == 'август'):\n",
        "    print('Ваш знак зодиака: Лев')\n",
        "  elif (24<= day <= 31 and month == 'август') or (1<= day <= 22 and month == 'сентябрь'):\n",
        "    print('Ваш знак зодиака: Дева')\n",
        "  elif (23<= day <= 30 and month == 'сентябрь') or (1<= day <= 23 and month == 'октябрь'):\n",
        "    print('Ваш знак зодиака: Весы')\n",
        "  elif (24<= day <= 31 and month == 'октябрь') or (1<= day <= 22 and month == 'ноябрь'):\n",
        "    print('Ваш знак зодиака: Скорпион')\n",
        "  elif (23<= day <= 30 and month == 'ноябрь') or (1<= day <= 21 and month == 'декабрь'):\n",
        "    print('Ваш знак зодиака: Стрелец')\n",
        "  elif (22<= day <= 31 and month == 'декабрь') or (1<= day <= 20 and month == 'январь'):\n",
        "    print('Ваш знак зодиака: Козерог')\n",
        "  elif (21<= day <= 31 and month == 'январь') or (1<= day <= 18 and month == 'февраль'):\n",
        "    print('Ваш знак зодиака: Водолей')\n",
        "  elif (19<= day <= 29 and month == 'февраль') or (1<= day <= 20 and month == 'март'):\n",
        "    print('Ваш знак зодиака: Рыбы')\n",
        "  else:\n",
        "    print('Некорректное значение дня в месяце')\n",
        "\n",
        "else:\n",
        "  print('Некорректное значение дня или месяца')\n",
        "  \n"
      ],
      "metadata": {
        "colab": {
          "base_uri": "https://localhost:8080/"
        },
        "id": "vxsHPaJUVPtD",
        "outputId": "e26845c5-509d-49c7-ab2f-991f6af5e07d"
      },
      "execution_count": null,
      "outputs": [
        {
          "output_type": "stream",
          "name": "stdout",
          "text": [
            "Введите день: 5\n",
            "Введите месяц: Январь\n",
            "Ваш знак зодиака: Козерог\n"
          ]
        }
      ]
    },
    {
      "cell_type": "markdown",
      "source": [
        "### Задание 4\n",
        "Вам нужно написать программу для подбора упаковок по размерам товара. Размеры хранятся в переменных (в сантиметрах):\n",
        "* width = 10\n",
        "* length = 205\n",
        "* height = 5\n",
        "\n",
        "Используйте следующие правила:\n",
        "1. если каждое из трех измерений менее 15 сантиметров, то выведите на экран “Коробка №1”;\n",
        "2. если хотя бы одно из измерений больше 15 сантиметров, но менее 50 сантиметров, то выводите “Коробка №2”;\n",
        "3. если длина товара больше 2 метров, то выводите “Упаковка для лыж”;\n",
        "4. во всех остальных случаях выводите “Стандартная коробка №3”.\n",
        "\n",
        "\n"
      ],
      "metadata": {
        "id": "QdqC926SiBgI"
      }
    },
    {
      "cell_type": "code",
      "source": [
        "width = 10\n",
        "length = 205\n",
        "height = 5\n",
        "\n",
        "if width < 15 and length < 15 and height < 15:\n",
        "  print('Коробка №1')\n",
        "elif 15 <= width < 50 or 15 <= length < 50 or 15 <= height < 50:\n",
        "  print('Коробка №2')\n",
        "elif length >= 200:\n",
        "  print('Упаковка для лыж')\n",
        "else:\n",
        "  print('Стандартная коробка №3')"
      ],
      "metadata": {
        "colab": {
          "base_uri": "https://localhost:8080/"
        },
        "id": "ighoZ5K_iLuH",
        "outputId": "f2ee3d0a-035e-410e-9026-d400889b3c15"
      },
      "execution_count": null,
      "outputs": [
        {
          "output_type": "stream",
          "name": "stdout",
          "text": [
            "Упаковка для лыж\n"
          ]
        }
      ]
    },
    {
      "cell_type": "markdown",
      "source": [
        "### Задание 5 (необязательное)\n",
        "Дана переменная, в которой хранится шестизначное число (номер проездного билета). Напишите программу, которая будет определять, является ли данный билет “счастливым”. Билет считается счастливым, если сумма первых трех цифр совпадает с суммой последних трех цифр номера."
      ],
      "metadata": {
        "id": "fnss3Tteko_j"
      }
    },
    {
      "cell_type": "code",
      "source": [
        "number = 113311\n",
        "\n",
        "if int(str(number)[0]) + int(str(number)[1]) + int(str(number)[2]) == int(str(number)[3]) + int(str(number)[4]) + int(str(number)[5]):\n",
        "  print('Счастливый билет')\n",
        "else:\n",
        "  print('Несчастливый билет')"
      ],
      "metadata": {
        "colab": {
          "base_uri": "https://localhost:8080/"
        },
        "id": "erYE9K5HkvYM",
        "outputId": "5dc6aab1-6951-45b4-d169-4e6f165bb1d5"
      },
      "execution_count": null,
      "outputs": [
        {
          "output_type": "stream",
          "name": "stdout",
          "text": [
            "Счастливый билет\n"
          ]
        }
      ]
    },
    {
      "cell_type": "code",
      "source": [
        "# второй вариант\n",
        "if ((number // 100000) + (number // 10000 % 10) + (number // 1000 % 10)) == ((number // 100 % 10) + (number // 10 % 10) + (number % 10)):\n",
        "  print('Счастливый билет')\n",
        "else:\n",
        "  print('Несчастливый билет')"
      ],
      "metadata": {
        "colab": {
          "base_uri": "https://localhost:8080/"
        },
        "id": "DSQZ-oCyk7nq",
        "outputId": "3cad705e-5292-448d-9fbe-e57b8c8d9285"
      },
      "execution_count": null,
      "outputs": [
        {
          "output_type": "stream",
          "name": "stdout",
          "text": [
            "Счастливый билет\n"
          ]
        }
      ]
    },
    {
      "cell_type": "markdown",
      "source": [
        "### Задание 6 (необязательное)\n",
        "Напишите программу, которая сможет вычислять площади трех фигур (круг, треугольник и прямоугольник). Тип фигуры запрашиваем через пользовательский ввод, после чего делаем запрос характеристик фигуры:\n",
        "* если пользователь выбрал круг, запрашиваем его радиус,\n",
        "* если треугольник – длины трех его сторон;\n",
        "* если прямоугольник – длины двух его сторон."
      ],
      "metadata": {
        "id": "dQ5eZLnMqyxr"
      }
    },
    {
      "cell_type": "code",
      "source": [
        "pi = 3.14159265359\n",
        "\n",
        "figure = input('Введите тип фигуры (круг, треугольник или прямоугольник): ').lower()\n",
        "\n",
        "if figure == 'круг':\n",
        "  radius = float(input('Введите радиус круга: '))\n",
        "  print('Площадь круга:', round(pi * radius**2, 2))\n",
        "elif figure == 'треугольник':\n",
        "  side_A = float(input('Введите длину стороны A: '))\n",
        "  side_B = float(input('Введите длину стороны B: '))\n",
        "  side_C = float(input('Введите длину стороны C: '))\n",
        "  p = (side_A + side_B + side_C) / 2\n",
        "  print('Площадь треугольника:', round( ( p * (p-side_A) * (p-side_B) * (p-side_C) ) ** 0.5, 2) )\n",
        "elif figure == 'прямоугольник':\n",
        "  side_A = float(input('Введите длину стороны A: '))\n",
        "  side_B = float(input('Введите длину стороны B: '))\n",
        "  print('Площадь прямоугольника:', round(side_A * side_B, 2))\n",
        "else:\n",
        "  print('Некорректный тип фигуры')"
      ],
      "metadata": {
        "colab": {
          "base_uri": "https://localhost:8080/"
        },
        "id": "4eF6iHdLq59A",
        "outputId": "ceb183b5-bf3e-464f-adc3-7a7892f623dc"
      },
      "execution_count": null,
      "outputs": [
        {
          "output_type": "stream",
          "name": "stdout",
          "text": [
            "Введите тип фигуры (круг, треугольник или прямоугольник): прямоугольник\n",
            "Введите длину стороны A: 2\n",
            "Введите длину стороны B: 3\n",
            "Площадь прямоугольника: 6.0\n"
          ]
        }
      ]
    }
  ]
}
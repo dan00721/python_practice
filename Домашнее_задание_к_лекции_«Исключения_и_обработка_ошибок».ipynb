{
  "nbformat": 4,
  "nbformat_minor": 0,
  "metadata": {
    "colab": {
      "name": "Домашнее задание к лекции «Исключения и обработка ошибок».ipynb",
      "provenance": [],
      "collapsed_sections": [],
      "authorship_tag": "ABX9TyOhraCbMfGjoRru6eqLPhaq",
      "include_colab_link": true
    },
    "kernelspec": {
      "name": "python3",
      "display_name": "Python 3"
    },
    "language_info": {
      "name": "python"
    }
  },
  "cells": [
    {
      "cell_type": "markdown",
      "metadata": {
        "id": "view-in-github",
        "colab_type": "text"
      },
      "source": [
        "<a href=\"https://colab.research.google.com/github/dan00721/python_practice/blob/main/%D0%94%D0%BE%D0%BC%D0%B0%D1%88%D0%BD%D0%B5%D0%B5_%D0%B7%D0%B0%D0%B4%D0%B0%D0%BD%D0%B8%D0%B5_%D0%BA_%D0%BB%D0%B5%D0%BA%D1%86%D0%B8%D0%B8_%C2%AB%D0%98%D1%81%D0%BA%D0%BB%D1%8E%D1%87%D0%B5%D0%BD%D0%B8%D1%8F_%D0%B8_%D0%BE%D0%B1%D1%80%D0%B0%D0%B1%D0%BE%D1%82%D0%BA%D0%B0_%D0%BE%D1%88%D0%B8%D0%B1%D0%BE%D0%BA%C2%BB.ipynb\" target=\"_parent\"><img src=\"https://colab.research.google.com/assets/colab-badge.svg\" alt=\"Open In Colab\"/></a>"
      ]
    },
    {
      "cell_type": "markdown",
      "source": [
        "### Задание 1\n",
        "Печатные газеты использовали свой формат дат для каждого выпуска. Для каждой газеты из списка напишите формат указанной даты для перевода в объект datetime:\n",
        "* The Moscow Times - Wednesday, October 2, 2002\n",
        "* The Guardian - Friday, 11.10.13\n",
        "* Daily News - Thursday, 18 August 1977"
      ],
      "metadata": {
        "id": "5NPYD20NvNV6"
      }
    },
    {
      "cell_type": "code",
      "execution_count": 24,
      "metadata": {
        "id": "JzCWjyfzsgFE"
      },
      "outputs": [],
      "source": [
        "from datetime import datetime"
      ]
    },
    {
      "cell_type": "code",
      "source": [
        "datetime.strptime('Wednesday, October 2, 2002', '%A, %B %d, %Y')"
      ],
      "metadata": {
        "colab": {
          "base_uri": "https://localhost:8080/"
        },
        "id": "FtaMS8KyxXH-",
        "outputId": "95e82411-870b-4793-9b60-1686389060fb"
      },
      "execution_count": 25,
      "outputs": [
        {
          "output_type": "execute_result",
          "data": {
            "text/plain": [
              "datetime.datetime(2002, 10, 2, 0, 0)"
            ]
          },
          "metadata": {},
          "execution_count": 25
        }
      ]
    },
    {
      "cell_type": "code",
      "source": [
        "datetime.strptime('Friday, 11.10.13', '%A, %d.%m.%y')"
      ],
      "metadata": {
        "colab": {
          "base_uri": "https://localhost:8080/"
        },
        "id": "kGCbPIeb1BUZ",
        "outputId": "5d0ce1a3-fca1-4366-94b7-70d2f1c6cf58"
      },
      "execution_count": 26,
      "outputs": [
        {
          "output_type": "execute_result",
          "data": {
            "text/plain": [
              "datetime.datetime(2013, 10, 11, 0, 0)"
            ]
          },
          "metadata": {},
          "execution_count": 26
        }
      ]
    },
    {
      "cell_type": "code",
      "source": [
        "datetime.strptime('Thursday, 18 August 1977', '%A, %d %B %Y')"
      ],
      "metadata": {
        "colab": {
          "base_uri": "https://localhost:8080/"
        },
        "id": "EAYM75jV1qfJ",
        "outputId": "0810ee8a-3941-4de2-c1b3-7f75596b8912"
      },
      "execution_count": 27,
      "outputs": [
        {
          "output_type": "execute_result",
          "data": {
            "text/plain": [
              "datetime.datetime(1977, 8, 18, 0, 0)"
            ]
          },
          "metadata": {},
          "execution_count": 27
        }
      ]
    },
    {
      "cell_type": "markdown",
      "source": [
        "### Задание 2\n",
        "Дан поток дат в формате YYYY-MM-DD, в которых встречаются некорректные значения:\n",
        "stream = [‘2018-04-02’, ‘2018-02-29’, ‘2018-19-02’]. Напишите функцию, которая проверяет эти даты на корректность. Т. е. для каждой даты возвращает True (дата корректна) или False (некорректная дата).\n",
        "\n"
      ],
      "metadata": {
        "id": "3eeQ19032OxC"
      }
    },
    {
      "cell_type": "code",
      "source": [
        "stream = ['2018-04-02', '2018-02-29', '2018-19-02']"
      ],
      "metadata": {
        "id": "fKIEi39A2HeD"
      },
      "execution_count": 28,
      "outputs": []
    },
    {
      "cell_type": "code",
      "source": [
        "def check_date(dates):\n",
        "  for date in dates:\n",
        "    try:\n",
        "      datetime.strptime(date, '%Y-%m-%d')\n",
        "      print(date, True)\n",
        "    except:\n",
        "      print(date, False)"
      ],
      "metadata": {
        "id": "B6HO17g64FDK"
      },
      "execution_count": 29,
      "outputs": []
    },
    {
      "cell_type": "code",
      "source": [
        "check_date(stream)"
      ],
      "metadata": {
        "colab": {
          "base_uri": "https://localhost:8080/"
        },
        "id": "mrLQhxdr5b-T",
        "outputId": "c23e9dc1-d097-4176-b896-f64b43eb94e6"
      },
      "execution_count": 30,
      "outputs": [
        {
          "output_type": "stream",
          "name": "stdout",
          "text": [
            "2018-04-02 True\n",
            "2018-02-29 False\n",
            "2018-19-02 False\n"
          ]
        }
      ]
    },
    {
      "cell_type": "markdown",
      "source": [
        "### Задание 3\n",
        "Напишите функцию date_range, которая возвращает список дат за период от start_date до end_date. Даты должны вводиться в формате YYYY-MM-DD. В случае неверного формата или при start_date > end_date должен возвращаться пустой список.\n",
        "\n"
      ],
      "metadata": {
        "id": "gZ57qf4L6WZM"
      }
    },
    {
      "cell_type": "code",
      "source": [
        "from datetime import timedelta"
      ],
      "metadata": {
        "id": "TXR6YAc1-mO5"
      },
      "execution_count": 31,
      "outputs": []
    },
    {
      "cell_type": "code",
      "source": [
        "def date_range(start_date, end_date):\n",
        "  date_list = []\n",
        "\n",
        "  try:\n",
        "    start_date_datetime = datetime.strptime(start_date, '%Y-%m-%d')\n",
        "    end_date_datetime = datetime.strptime(end_date, '%Y-%m-%d')\n",
        "    \n",
        "    while start_date_datetime <= end_date_datetime:\n",
        "      date_list.append(start_date_datetime.strftime('%Y-%m-%d'))\n",
        "      start_date_datetime += timedelta(days=1)\n",
        "  \n",
        "  except:\n",
        "    print('Неверный формат даты!')\n",
        "\n",
        "  print(date_list)"
      ],
      "metadata": {
        "id": "8UHgC9xb50dS"
      },
      "execution_count": 32,
      "outputs": []
    },
    {
      "cell_type": "code",
      "source": [
        "date_range('2022-02-22', '2022-02-26')"
      ],
      "metadata": {
        "colab": {
          "base_uri": "https://localhost:8080/"
        },
        "id": "EbtyD66qAAvt",
        "outputId": "605129b0-b7ab-45c1-b540-0c4fd700ffef"
      },
      "execution_count": 33,
      "outputs": [
        {
          "output_type": "stream",
          "name": "stdout",
          "text": [
            "['2022-02-22', '2022-02-23', '2022-02-24', '2022-02-25', '2022-02-26']\n"
          ]
        }
      ]
    },
    {
      "cell_type": "code",
      "source": [
        "date_range('2022-02-22', '2022-02-29')"
      ],
      "metadata": {
        "colab": {
          "base_uri": "https://localhost:8080/"
        },
        "id": "DLeI-y0GAWoh",
        "outputId": "9788431c-0dbd-47cc-b451-ca3ef783c9dc"
      },
      "execution_count": 34,
      "outputs": [
        {
          "output_type": "stream",
          "name": "stdout",
          "text": [
            "Неверный формат даты!\n",
            "[]\n"
          ]
        }
      ]
    },
    {
      "cell_type": "code",
      "source": [
        "date_range('2022-02-22', '2022-02-20')"
      ],
      "metadata": {
        "colab": {
          "base_uri": "https://localhost:8080/"
        },
        "id": "ITXwt4jZDmDw",
        "outputId": "444a833b-1546-426e-f7c3-69b7982a3191"
      },
      "execution_count": 35,
      "outputs": [
        {
          "output_type": "stream",
          "name": "stdout",
          "text": [
            "[]\n"
          ]
        }
      ]
    },
    {
      "cell_type": "code",
      "source": [
        "date_range('2022-02-22', '2022-02-22')"
      ],
      "metadata": {
        "colab": {
          "base_uri": "https://localhost:8080/"
        },
        "id": "MKj7-9WoDsLa",
        "outputId": "008cce63-4e13-4fa7-f5d0-e8416bc5db5d"
      },
      "execution_count": 36,
      "outputs": [
        {
          "output_type": "stream",
          "name": "stdout",
          "text": [
            "['2022-02-22']\n"
          ]
        }
      ]
    },
    {
      "cell_type": "markdown",
      "source": [
        "### Задание 4 (бонусное)"
      ],
      "metadata": {
        "id": "tTAalw3CgsGN"
      }
    },
    {
      "cell_type": "code",
      "source": [
        "DEFAULT_USER_COUNT = 3\n",
        "\n",
        "def delete_and_return_last_user(region, default_list=['A100', 'A101', 'A102']):\n",
        "  \"\"\"\n",
        "  Удаляет из списка default_list последнего пользователя\n",
        "  и возвращает ID нового последнего пользователя.\n",
        "  \"\"\"\n",
        "  element_to_delete = default_list[-1]\n",
        "  default_list.remove(element_to_delete)\n",
        "\n",
        "  return default_list[DEFAULT_USER_COUNT - 2]"
      ],
      "metadata": {
        "id": "OB5_5dKjEAjR"
      },
      "execution_count": 37,
      "outputs": []
    },
    {
      "cell_type": "code",
      "source": [
        "delete_and_return_last_user(1)"
      ],
      "metadata": {
        "colab": {
          "base_uri": "https://localhost:8080/",
          "height": 37
        },
        "id": "jKjWWv3nhfgf",
        "outputId": "9163b01f-72b6-4f5d-f45f-457baa572579"
      },
      "execution_count": 38,
      "outputs": [
        {
          "output_type": "execute_result",
          "data": {
            "application/vnd.google.colaboratory.intrinsic+json": {
              "type": "string"
            },
            "text/plain": [
              "'A101'"
            ]
          },
          "metadata": {},
          "execution_count": 38
        }
      ]
    },
    {
      "cell_type": "code",
      "source": [
        "delete_and_return_last_user(2)"
      ],
      "metadata": {
        "colab": {
          "base_uri": "https://localhost:8080/",
          "height": 249
        },
        "id": "AxJgLQ1rifOY",
        "outputId": "d7d338ab-016d-44ae-de70-ceabd408132b"
      },
      "execution_count": 39,
      "outputs": [
        {
          "output_type": "error",
          "ename": "IndexError",
          "evalue": "ignored",
          "traceback": [
            "\u001b[0;31m---------------------------------------------------------------------------\u001b[0m",
            "\u001b[0;31mIndexError\u001b[0m                                Traceback (most recent call last)",
            "\u001b[0;32m<ipython-input-39-ed704c2bfcca>\u001b[0m in \u001b[0;36m<module>\u001b[0;34m()\u001b[0m\n\u001b[0;32m----> 1\u001b[0;31m \u001b[0mdelete_and_return_last_user\u001b[0m\u001b[0;34m(\u001b[0m\u001b[0;36m2\u001b[0m\u001b[0;34m)\u001b[0m\u001b[0;34m\u001b[0m\u001b[0;34m\u001b[0m\u001b[0m\n\u001b[0m",
            "\u001b[0;32m<ipython-input-37-254a42c919c5>\u001b[0m in \u001b[0;36mdelete_and_return_last_user\u001b[0;34m(region, default_list)\u001b[0m\n\u001b[1;32m      9\u001b[0m   \u001b[0mdefault_list\u001b[0m\u001b[0;34m.\u001b[0m\u001b[0mremove\u001b[0m\u001b[0;34m(\u001b[0m\u001b[0melement_to_delete\u001b[0m\u001b[0;34m)\u001b[0m\u001b[0;34m\u001b[0m\u001b[0;34m\u001b[0m\u001b[0m\n\u001b[1;32m     10\u001b[0m \u001b[0;34m\u001b[0m\u001b[0m\n\u001b[0;32m---> 11\u001b[0;31m   \u001b[0;32mreturn\u001b[0m \u001b[0mdefault_list\u001b[0m\u001b[0;34m[\u001b[0m\u001b[0mDEFAULT_USER_COUNT\u001b[0m \u001b[0;34m-\u001b[0m \u001b[0;36m2\u001b[0m\u001b[0;34m]\u001b[0m\u001b[0;34m\u001b[0m\u001b[0;34m\u001b[0m\u001b[0m\n\u001b[0m",
            "\u001b[0;31mIndexError\u001b[0m: list index out of range"
          ]
        }
      ]
    },
    {
      "cell_type": "markdown",
      "source": [
        "#### Задание:\n",
        "1. Что значит ошибка list index out of range?\n",
        "2. Почему при первом запуске функция работает корректно, а при втором - нет?"
      ],
      "metadata": {
        "id": "z_X7EXCCjxVG"
      }
    },
    {
      "cell_type": "markdown",
      "source": [
        "1. Ошибка list index out of range означает, что мы обращаемся к недопустимым индексам списка.\n",
        "2. При первом запуске список по умолчанию состоит из трех элементов, функция удаляет последний и возвращает новый последний по индексу. Но при повторном вызове список состоит уже из двух элементов, удаляется последний и остается один, а функция пытается вернуть элемент с индексом 1, но его уже нет в списке."
      ],
      "metadata": {
        "id": "QFRiv8o3j91z"
      }
    }
  ]
}
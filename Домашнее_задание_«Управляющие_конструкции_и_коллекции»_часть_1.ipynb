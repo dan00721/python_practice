{
  "nbformat": 4,
  "nbformat_minor": 0,
  "metadata": {
    "colab": {
      "name": "Домашнее задание «Управляющие конструкции и коллекции» часть 1.ipynb",
      "provenance": [],
      "collapsed_sections": [],
      "authorship_tag": "ABX9TyNdMibn/l9+PXeftH0CeLMv",
      "include_colab_link": true
    },
    "kernelspec": {
      "name": "python3",
      "display_name": "Python 3"
    },
    "language_info": {
      "name": "python"
    }
  },
  "cells": [
    {
      "cell_type": "markdown",
      "metadata": {
        "id": "view-in-github",
        "colab_type": "text"
      },
      "source": [
        "<a href=\"https://colab.research.google.com/github/dan00721/python_practice/blob/main/%D0%94%D0%BE%D0%BC%D0%B0%D1%88%D0%BD%D0%B5%D0%B5_%D0%B7%D0%B0%D0%B4%D0%B0%D0%BD%D0%B8%D0%B5_%C2%AB%D0%A3%D0%BF%D1%80%D0%B0%D0%B2%D0%BB%D1%8F%D1%8E%D1%89%D0%B8%D0%B5_%D0%BA%D0%BE%D0%BD%D1%81%D1%82%D1%80%D1%83%D0%BA%D1%86%D0%B8%D0%B8_%D0%B8_%D0%BA%D0%BE%D0%BB%D0%BB%D0%B5%D0%BA%D1%86%D0%B8%D0%B8%C2%BB_%D1%87%D0%B0%D1%81%D1%82%D1%8C_1.ipynb\" target=\"_parent\"><img src=\"https://colab.research.google.com/assets/colab-badge.svg\" alt=\"Open In Colab\"/></a>"
      ]
    },
    {
      "cell_type": "markdown",
      "source": [
        "###Задание 1\n",
        "Дана переменная, в которой хранится слово из латинских букв. Напишите код, который выводит на экран:\n",
        "* среднюю букву, если число букв в слове нечетное;\n",
        "* две средних буквы, если число букв четное."
      ],
      "metadata": {
        "id": "JG7RMjIFZnLX"
      }
    },
    {
      "cell_type": "code",
      "execution_count": 1,
      "metadata": {
        "colab": {
          "base_uri": "https://localhost:8080/"
        },
        "id": "tKKlqwwmZXld",
        "outputId": "c69c49b3-15bf-412b-de6a-60c155fd907b"
      },
      "outputs": [
        {
          "output_type": "stream",
          "name": "stdout",
          "text": [
            "t\n"
          ]
        }
      ],
      "source": [
        "word = 'testing'\n",
        "\n",
        "if len(word) % 2 == 1:\n",
        "  print(word[len(word) // 2])\n",
        "else:\n",
        "  print(word[len(word) // 2 - 1 : len(word) // 2 + 1])"
      ]
    },
    {
      "cell_type": "markdown",
      "source": [
        "### Задание 2\n",
        "Напишите программу, которая последовательно запрашивает у пользователя числа (по одному за раз) и после первого нуля выводит сумму всех ранее введенных чисел."
      ],
      "metadata": {
        "id": "TOzCYYG6crUi"
      }
    },
    {
      "cell_type": "code",
      "source": [
        "number = int(input('Введите число: '))\n",
        "sum_ = 0\n",
        "\n",
        "while number != 0:\n",
        "  sum_ += number\n",
        "  number = int(input('Введите число: '))\n",
        "\n",
        "print('Сумма:', sum_)"
      ],
      "metadata": {
        "colab": {
          "base_uri": "https://localhost:8080/"
        },
        "id": "mUkVbqbpc_6a",
        "outputId": "4c885569-7633-45a5-afc9-a59847b5b390"
      },
      "execution_count": 2,
      "outputs": [
        {
          "output_type": "stream",
          "name": "stdout",
          "text": [
            "Введите число: 1\n",
            "Введите число: 4\n",
            "Введите число: 6\n",
            "Введите число: 0\n",
            "Сумма: 11\n"
          ]
        }
      ]
    },
    {
      "cell_type": "markdown",
      "source": [
        "### Задание 3\n",
        "Мы делаем MVP dating-сервиса, и у нас есть список парней и девушек.\n",
        "Выдвигаем гипотезу: лучшие рекомендации мы получим, если просто отсортируем имена по алфавиту и познакомим людей с одинаковыми индексами после сортировки! Но мы не будем никого знакомить, если кто-то может остаться без пары.\n"
      ],
      "metadata": {
        "id": "pkdDpONfgX8L"
      }
    },
    {
      "cell_type": "code",
      "source": [
        "boys = ['Peter', 'Alex', 'John', 'Arthur', 'Richard']\n",
        "girls = ['Kate', 'Liza', 'Kira', 'Emma', 'Trisha']\n",
        "\n",
        "if len(boys) == len(girls):\n",
        "  print('Идеальные пары:')\n",
        "  for i, boy in enumerate(sorted(boys)):\n",
        "    print(boy, 'и', sorted(girls)[i])\n",
        "else:\n",
        "  print('Внимание, кто-то может остаться без пары!')"
      ],
      "metadata": {
        "colab": {
          "base_uri": "https://localhost:8080/"
        },
        "id": "mIT06D6Fghaf",
        "outputId": "bf5532ad-61d3-4f6b-fbab-dfa387a91c7c"
      },
      "execution_count": 3,
      "outputs": [
        {
          "output_type": "stream",
          "name": "stdout",
          "text": [
            "Идеальные пары:\n",
            "Alex и Emma\n",
            "Arthur и Kate\n",
            "John и Kira\n",
            "Peter и Liza\n",
            "Richard и Trisha\n"
          ]
        }
      ]
    },
    {
      "cell_type": "markdown",
      "source": [
        "### Задание 4\n",
        "У нас есть список, содержащий информацию о среднедневной температуре в Фаренгейтах за произвольный период по странам (структура данных в примере). Необходимо написать код, который рассчитает среднюю температуру за период в Цельсиях(!) для каждой страны.\n",
        "\n"
      ],
      "metadata": {
        "id": "ns9v77N7sOZL"
      }
    },
    {
      "cell_type": "code",
      "source": [
        "countries_temperature = [\n",
        "    ['Thailand', [75.2, 77, 78.8, 73.4, 68, 75.2, 77]],\n",
        "    ['Germany', [57.2, 55.4, 59, 59, 53.6]],\n",
        "    ['Russia', [35.6, 37.4, 39.2, 41, 42.8, 39.2, 35.6]],\n",
        "    ['Poland', [50, 50, 53.6, 57.2, 55.4, 55.4]]\n",
        "]"
      ],
      "metadata": {
        "id": "vJb9dUWsn-8Q"
      },
      "execution_count": 9,
      "outputs": []
    },
    {
      "cell_type": "code",
      "source": [
        "print('Средняя температура в странах:')\n",
        "for country_temperature in countries_temperature:\n",
        "  temperature_sum = 0\n",
        "  \n",
        "  for temperature in country_temperature[1]:\n",
        "    temperature_sum += 5 * (temperature - 32) / 9\n",
        "  print(country_temperature[0], '-', round(temperature_sum / len(country_temperature[1]), 1), 'C')\n"
      ],
      "metadata": {
        "colab": {
          "base_uri": "https://localhost:8080/"
        },
        "id": "2ZsJWiRPwE9X",
        "outputId": "9eb3ec32-be74-417f-da8f-5d1d785372c4"
      },
      "execution_count": 10,
      "outputs": [
        {
          "output_type": "stream",
          "name": "stdout",
          "text": [
            "Средняя температура в странах:\n",
            "Thailand - 23.9 C\n",
            "Germany - 13.8 C\n",
            "Russia - 3.7 C\n",
            "Poland - 12.0 C\n"
          ]
        }
      ]
    },
    {
      "cell_type": "markdown",
      "source": [
        "### Задание 5 (необязательное)\n",
        "Дан поток логов по количеству просмотренных страниц для каждого пользователя. Вам необходимо написать алгоритм, который считает среднее значение просмотров на пользователя. Т. е. надо посчитать отношение суммы всех просмотров к количеству уникальных пользователей."
      ],
      "metadata": {
        "id": "iAnF8is7A0Mu"
      }
    },
    {
      "cell_type": "code",
      "source": [
        "stream = [\n",
        "    '2018-01-01,user1,3',\n",
        "    '2018-01-07,user1,4',\n",
        "    '2018-03-29,user1,1',\n",
        "    '2018-04-04,user1,13',\n",
        "    '2018-01-05,user2,7',\n",
        "    '2018-06-14,user3,4',\n",
        "    '2018-07-02,user3,10',\n",
        "    '2018-03-21,user4,19',\n",
        "    '2018-03-22,user4,4',\n",
        "    '2018-04-22,user4,8',\n",
        "    '2018-05-03,user4,9',\n",
        "    '2018-05-11,user4,11',\n",
        "]"
      ],
      "metadata": {
        "id": "UguqhQHgA6kt"
      },
      "execution_count": 17,
      "outputs": []
    },
    {
      "cell_type": "code",
      "source": [
        "sum_views = 0\n",
        "users = []\n",
        "for line in stream:\n",
        "  sum_views += int(line.split(',')[2])\n",
        "  users.append(line.split(',')[1])\n",
        "print('Среднее количество просмотров на уникального пользователя:', round(sum_views / len(set(users)), 2))"
      ],
      "metadata": {
        "colab": {
          "base_uri": "https://localhost:8080/"
        },
        "id": "Xja_RFcIQ2Mt",
        "outputId": "52f542ab-01bb-45d9-8c04-e613d446a37f"
      },
      "execution_count": 18,
      "outputs": [
        {
          "output_type": "stream",
          "name": "stdout",
          "text": [
            "Среднее количество просмотров на уникального пользователя: 23.25\n"
          ]
        }
      ]
    },
    {
      "cell_type": "code",
      "source": [
        "stream = [\n",
        "    '2018-01-01,user100,150',\n",
        "    '2018-01-07,user99,205',\n",
        "    '2018-03-29,user1001,81'\n",
        "]\n",
        "\n",
        "sum_views = 0\n",
        "users = []\n",
        "for line in stream:\n",
        "  sum_views += int(line.split(',')[2])\n",
        "  users.append(line.split(',')[1])\n",
        "print('Среднее количество просмотров на уникального пользователя:', round(sum_views / len(set(users)), 2))"
      ],
      "metadata": {
        "colab": {
          "base_uri": "https://localhost:8080/"
        },
        "id": "xID17PwnRN8e",
        "outputId": "f3e254b7-1282-40ee-c9c2-c8098de68875"
      },
      "execution_count": 19,
      "outputs": [
        {
          "output_type": "stream",
          "name": "stdout",
          "text": [
            "Среднее количество просмотров на уникального пользователя: 145.33\n"
          ]
        }
      ]
    },
    {
      "cell_type": "markdown",
      "source": [
        "### Задание 6 (необязательное)\n",
        "\n",
        "Необходимо у пользователя запрашивать набор чисел разделенных пробелом. В результате в отсортированном порядке должны выводиться числа, которые повторяются в вводе более одного раза."
      ],
      "metadata": {
        "id": "AhaGU3ltU4DM"
      }
    },
    {
      "cell_type": "code",
      "source": [
        "numbers = input('Введите числа через пробел: ')"
      ],
      "metadata": {
        "colab": {
          "base_uri": "https://localhost:8080/"
        },
        "id": "TaLZ-w1rUaib",
        "outputId": "b385dcc5-53b2-4f45-835a-f950326b8a64"
      },
      "execution_count": 45,
      "outputs": [
        {
          "name": "stdout",
          "output_type": "stream",
          "text": [
            "Введите числа через пробел: 10 15 15 103 200 200 200 1 1 1 1 1 2 2 2\n"
          ]
        }
      ]
    },
    {
      "cell_type": "code",
      "source": [
        "list_numbers = sorted(numbers.split(' '))\n",
        "list_numbers_duplicates = []\n",
        "\n",
        "for number in list_numbers:\n",
        "  if list_numbers.count(number) > 1:\n",
        "    list_numbers_duplicates.append(number)\n",
        "\n",
        "print(' '.join(set(list_numbers_duplicates)))"
      ],
      "metadata": {
        "colab": {
          "base_uri": "https://localhost:8080/"
        },
        "id": "lp1WyG40WmL8",
        "outputId": "8d9f2a7d-a8eb-4388-cd8a-99915902a9a5"
      },
      "execution_count": 46,
      "outputs": [
        {
          "output_type": "stream",
          "name": "stdout",
          "text": [
            "1 2 15 200\n"
          ]
        }
      ]
    }
  ]
}
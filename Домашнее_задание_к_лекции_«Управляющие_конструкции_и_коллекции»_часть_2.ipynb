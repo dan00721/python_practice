{
  "nbformat": 4,
  "nbformat_minor": 0,
  "metadata": {
    "colab": {
      "name": "Домашнее задание к лекции «Управляющие конструкции и коллекции» часть 2.ipynb",
      "provenance": [],
      "collapsed_sections": [],
      "authorship_tag": "ABX9TyPnceQNA8r+qMYfzW2PNuOx",
      "include_colab_link": true
    },
    "kernelspec": {
      "name": "python3",
      "display_name": "Python 3"
    },
    "language_info": {
      "name": "python"
    }
  },
  "cells": [
    {
      "cell_type": "markdown",
      "metadata": {
        "id": "view-in-github",
        "colab_type": "text"
      },
      "source": [
        "<a href=\"https://colab.research.google.com/github/dan00721/python_practice/blob/main/%D0%94%D0%BE%D0%BC%D0%B0%D1%88%D0%BD%D0%B5%D0%B5_%D0%B7%D0%B0%D0%B4%D0%B0%D0%BD%D0%B8%D0%B5_%D0%BA_%D0%BB%D0%B5%D0%BA%D1%86%D0%B8%D0%B8_%C2%AB%D0%A3%D0%BF%D1%80%D0%B0%D0%B2%D0%BB%D1%8F%D1%8E%D1%89%D0%B8%D0%B5_%D0%BA%D0%BE%D0%BD%D1%81%D1%82%D1%80%D1%83%D0%BA%D1%86%D0%B8%D0%B8_%D0%B8_%D0%BA%D0%BE%D0%BB%D0%BB%D0%B5%D0%BA%D1%86%D0%B8%D0%B8%C2%BB_%D1%87%D0%B0%D1%81%D1%82%D1%8C_2.ipynb\" target=\"_parent\"><img src=\"https://colab.research.google.com/assets/colab-badge.svg\" alt=\"Open In Colab\"/></a>"
      ]
    },
    {
      "cell_type": "markdown",
      "source": [
        "### Задание 1\n",
        "Дана переменная, в которой хранится словарь, содержащий гео-метки для каждого пользователя (пример структуры данных приведен ниже). Вам необходимо написать программу, которая выведет на экран множество уникальных гео-меток всех пользователей."
      ],
      "metadata": {
        "id": "ZFsvJKs-pr7P"
      }
    },
    {
      "cell_type": "code",
      "execution_count": null,
      "metadata": {
        "id": "jfFyM7IVdDXj"
      },
      "outputs": [],
      "source": [
        "ids = {'user1': [213, 213, 213, 15, 213], \n",
        "       'user2': [54, 54, 119, 119, 119], \n",
        "       'user3': [213, 98, 98, 35]}"
      ]
    },
    {
      "cell_type": "code",
      "source": [
        "list_tags = []\n",
        "\n",
        "for tags in ids.values():\n",
        "  list_tags += tags\n",
        "\n",
        "print(set(list_tags))"
      ],
      "metadata": {
        "colab": {
          "base_uri": "https://localhost:8080/"
        },
        "id": "xmP7efc-qwDD",
        "outputId": "6eb35380-ccb3-4b4b-de8d-00c995335830"
      },
      "execution_count": null,
      "outputs": [
        {
          "output_type": "stream",
          "name": "stdout",
          "text": [
            "{98, 35, 15, 213, 54, 119}\n"
          ]
        }
      ]
    },
    {
      "cell_type": "markdown",
      "source": [
        "### Задание 2\n",
        "\n",
        "Дана переменная, в которой хранится список поисковых запросов пользователя (пример структуры данных приведен ниже). Вам необходимо написать программу, которая выведет на экран распределение количества слов в запросах в требуемом виде."
      ],
      "metadata": {
        "id": "zQzFtLjNxZ_f"
      }
    },
    {
      "cell_type": "code",
      "source": [
        "queries = [\n",
        "    'смотреть сериалы онлайн',\n",
        "    'новости спорта',\n",
        "    'афиша кино',\n",
        "    'курс доллара',\n",
        "    'сериалы этим летом',\n",
        "    'курс по питону',\n",
        "    'сериалы про спорт',\n",
        "    'слово слово слово  слово'\n",
        "]"
      ],
      "metadata": {
        "id": "zb87J95psTFs"
      },
      "execution_count": null,
      "outputs": []
    },
    {
      "cell_type": "code",
      "source": [
        "words_count = {}\n",
        "\n",
        "for query in queries:\n",
        "  words_count.setdefault(len(query.split()), 0)\n",
        "  words_count[len(query.split())] += 1\n",
        "\n",
        "for key, value in words_count.items():\n",
        "  print('Поисковых запросов, содержащих {} слов(а): {}%'.format(key, round(value / len(queries) * 100, 2)))"
      ],
      "metadata": {
        "colab": {
          "base_uri": "https://localhost:8080/"
        },
        "id": "_pq07KlOxrkN",
        "outputId": "8dd45c65-0f60-4368-f77c-0733e979e145"
      },
      "execution_count": null,
      "outputs": [
        {
          "output_type": "stream",
          "name": "stdout",
          "text": [
            "Поисковых запросов, содержащих 3 слов(а): 50.0%\n",
            "Поисковых запросов, содержащих 2 слов(а): 37.5%\n",
            "Поисковых запросов, содержащих 4 слов(а): 12.5%\n"
          ]
        }
      ]
    },
    {
      "cell_type": "markdown",
      "source": [
        "### Задание 3\n",
        "Дана переменная, в которой хранится информация о затратах и доходе рекламных кампаний по различным источникам. Необходимо дополнить исходную структуру показателем ROI, который рассчитаем по формуле: (revenue / cost - 1) * 100"
      ],
      "metadata": {
        "id": "-50hWSHtGbx_"
      }
    },
    {
      "cell_type": "code",
      "source": [
        "results = {\n",
        "    'vk': {'revenue': 103, 'cost': 98},\n",
        "    'yandex': {'revenue': 179, 'cost': 153},\n",
        "    'facebook': {'revenue': 103, 'cost': 110},\n",
        "    'adwords': {'revenue': 35, 'cost': 34},\n",
        "    'twitter': {'revenue': 11, 'cost': 24},\n",
        "}"
      ],
      "metadata": {
        "id": "55v8EkZOyO-e"
      },
      "execution_count": null,
      "outputs": []
    },
    {
      "cell_type": "code",
      "source": [
        "for value in results.values():\n",
        "  value['ROI'] = round((value['revenue'] / value['cost'] - 1) * 100, 2)\n",
        "results"
      ],
      "metadata": {
        "colab": {
          "base_uri": "https://localhost:8080/"
        },
        "id": "lGeygj_HGm-H",
        "outputId": "d4ec30c6-745d-4c68-fd4a-6fb9bb1e7ecd"
      },
      "execution_count": null,
      "outputs": [
        {
          "output_type": "execute_result",
          "data": {
            "text/plain": [
              "{'adwords': {'ROI': 2.94, 'cost': 34, 'revenue': 35},\n",
              " 'facebook': {'ROI': -6.36, 'cost': 110, 'revenue': 103},\n",
              " 'twitter': {'ROI': -54.17, 'cost': 24, 'revenue': 11},\n",
              " 'vk': {'ROI': 5.1, 'cost': 98, 'revenue': 103},\n",
              " 'yandex': {'ROI': 16.99, 'cost': 153, 'revenue': 179}}"
            ]
          },
          "metadata": {},
          "execution_count": 8
        }
      ]
    },
    {
      "cell_type": "markdown",
      "source": [
        "### Задание 4\n",
        "Дана переменная, в которой хранится статистика рекламных каналов по объемам продаж (пример структуры данных приведен ниже). Напишите программу, которая возвращает название канала с максимальным объемом продаж."
      ],
      "metadata": {
        "id": "d7aN0Cn6Ljzn"
      }
    },
    {
      "cell_type": "code",
      "source": [
        "stats = {'facebook': 55, 'yandex': 115, 'vk': 120, 'google': 99, 'email': 42, 'ok': 98, 'test': 120}"
      ],
      "metadata": {
        "id": "2MAGHK2sIA2s"
      },
      "execution_count": null,
      "outputs": []
    },
    {
      "cell_type": "code",
      "source": [
        "max_sales = 0\n",
        "\n",
        "for value in stats.values():\n",
        "  if value > max_sales:\n",
        "    max_sales = value\n",
        "\n",
        "for key, value in stats.items():\n",
        "  if stats[key] == max_sales:\n",
        "    print('Максимальный объем продаж на рекламном канале:', key)\n"
      ],
      "metadata": {
        "colab": {
          "base_uri": "https://localhost:8080/"
        },
        "id": "qeLTgiy-MYWu",
        "outputId": "c3daeae8-d4e2-4fc5-d2cc-a601bc733b81"
      },
      "execution_count": null,
      "outputs": [
        {
          "output_type": "stream",
          "name": "stdout",
          "text": [
            "Максимальный объем продаж на рекламном канале: vk\n",
            "Максимальный объем продаж на рекламном канале: test\n"
          ]
        }
      ]
    },
    {
      "cell_type": "markdown",
      "source": [
        "### Задание 5 (необязательно)\n",
        "Дан список произвольной длины. Необходимо написать код, который на основе исходного списка составит словарь такого уровня вложенности, какова длина исходного списка."
      ],
      "metadata": {
        "id": "o-xLjuYxUvRz"
      }
    },
    {
      "cell_type": "code",
      "source": [
        "my_list = ['2018-01-01', 'yandex', 'cpc', 100]\n",
        "my_list.reverse()"
      ],
      "metadata": {
        "id": "JJ8joE7bTizg"
      },
      "execution_count": null,
      "outputs": []
    },
    {
      "cell_type": "code",
      "source": [
        "my_list = ['a', 'b', 'c', 'd', 'e', 'f']\n",
        "my_list.reverse()"
      ],
      "metadata": {
        "id": "uvmP5koz5Riz"
      },
      "execution_count": null,
      "outputs": []
    },
    {
      "cell_type": "code",
      "source": [
        "my_dict = {}\n",
        "first, second, *_ = my_list\n",
        "my_dict[first] = second\n",
        "\n",
        "my_list = my_list[2:]\n",
        "\n",
        "for key in my_list:\n",
        "  my_dict = {key: my_dict}\n",
        "\n",
        "my_dict"
      ],
      "metadata": {
        "colab": {
          "base_uri": "https://localhost:8080/"
        },
        "id": "7gtLq8Aax-0s",
        "outputId": "3a96930e-167c-4923-94b2-093624e0106b"
      },
      "execution_count": null,
      "outputs": [
        {
          "output_type": "execute_result",
          "data": {
            "text/plain": [
              "{'a': {'b': {'c': {'d': {'f': 'e'}}}}}"
            ]
          },
          "metadata": {},
          "execution_count": 13
        }
      ]
    },
    {
      "cell_type": "markdown",
      "source": [
        "### Задание 6 (необязательно)\n",
        "Дана книга рецептов с информацией о том, сколько ингредиентов нужно для приготовления блюда в расчете на одну порцию (пример данных представлен ниже).\n",
        "Напишите программу, которая будет запрашивать у пользователя количество порций для приготовления этих блюд и отображать информацию о суммарном количестве требуемых ингредиентов в указанном виде.\n",
        "Внимание! Одинаковые ингридиенты с разными размерностями нужно считать раздельно!"
      ],
      "metadata": {
        "id": "USVE5ky-AK-8"
      }
    },
    {
      "cell_type": "code",
      "source": [
        "cook_book = {\n",
        "  'салат': [\n",
        "     {'ingridient_name': 'сыр', 'quantity': 50, 'measure': 'гр'},\n",
        "     {'ingridient_name': 'томаты', 'quantity': 2, 'measure': 'шт'},\n",
        "     {'ingridient_name': 'огурцы', 'quantity': 20, 'measure': 'гр'},\n",
        "     {'ingridient_name': 'маслины', 'quantity': 10, 'measure': 'гр'},\n",
        "     {'ingridient_name': 'оливковое масло', 'quantity': 20, 'measure': 'мл'},\n",
        "     {'ingridient_name': 'салат', 'quantity': 10, 'measure': 'гр'},\n",
        "     {'ingridient_name': 'перец', 'quantity': 20, 'measure': 'гр'}\n",
        "    ],\n",
        "  'пицца': [\n",
        "     {'ingridient_name': 'сыр', 'quantity': 20, 'measure': 'гр'},\n",
        "     {'ingridient_name': 'колбаса', 'quantity': 30, 'measure': 'гр'},\n",
        "     {'ingridient_name': 'бекон', 'quantity': 30, 'measure': 'гр'},\n",
        "     {'ingridient_name': 'оливки', 'quantity': 10, 'measure': 'гр'},\n",
        "     {'ingridient_name': 'томаты', 'quantity': 20, 'measure': 'гр'},\n",
        "     {'ingridient_name': 'тесто', 'quantity': 100, 'measure': 'гр'}   \n",
        "    ],\n",
        "  'лимонад': [\n",
        "     {'ingridient_name': 'лимон', 'quantity': 1, 'measure': 'шт'},\n",
        "     {'ingridient_name': 'вода', 'quantity': 200, 'measure': 'мл'},\n",
        "     {'ingridient_name': 'сахар', 'quantity': 10, 'measure': 'гр'},\n",
        "     {'ingridient_name': 'лайм', 'quantity': 20, 'measure': 'гр'}    \n",
        "    ]\n",
        "}"
      ],
      "metadata": {
        "id": "qoMmHJ7W49zc"
      },
      "execution_count": null,
      "outputs": []
    },
    {
      "cell_type": "code",
      "source": [
        "portions = int(input('Введите количество порций: '))"
      ],
      "metadata": {
        "colab": {
          "base_uri": "https://localhost:8080/"
        },
        "id": "QRqAX5F7ATJn",
        "outputId": "e6fa7588-aa37-4d0d-a76b-057ed002dd9a"
      },
      "execution_count": null,
      "outputs": [
        {
          "name": "stdout",
          "output_type": "stream",
          "text": [
            "Введите количество порций: 3\n"
          ]
        }
      ]
    },
    {
      "cell_type": "code",
      "source": [
        "# решение кураторов\n",
        "person = 3\n",
        "shop_dict = {}\n",
        "for dish in cook_book.values():\n",
        "  for ingr in dish:\n",
        "    if (ingr['ingridient_name'], ingr['measure']) not in shop_dict:\n",
        "      shop_dict[(ingr['ingridient_name'], ingr['measure'])] = ingr['quantity'] * person\n",
        "    else:\n",
        "      shop_dict[(ingr['ingridient_name'], ingr['measure'])] += ingr['quantity'] * person\n",
        "for name, q in shop_dict.items():\n",
        "\tprint(f'{name[0]} {q} {name[1]}')"
      ],
      "metadata": {
        "colab": {
          "base_uri": "https://localhost:8080/"
        },
        "id": "UBg2amLelWuA",
        "outputId": "a51fa616-b565-405d-8b91-3cf9350cb5fb"
      },
      "execution_count": null,
      "outputs": [
        {
          "output_type": "stream",
          "name": "stdout",
          "text": [
            "сыр 210 гр\n",
            "томаты 6 шт\n",
            "огурцы 60 гр\n",
            "маслины 30 гр\n",
            "оливковое масло 60 мл\n",
            "салат 30 гр\n",
            "перец 60 гр\n",
            "колбаса 90 гр\n",
            "бекон 90 гр\n",
            "оливки 30 гр\n",
            "томаты 60 гр\n",
            "тесто 300 гр\n",
            "лимон 3 шт\n",
            "вода 600 мл\n",
            "сахар 30 гр\n",
            "лайм 60 гр\n"
          ]
        }
      ]
    },
    {
      "cell_type": "code",
      "source": [
        "ingridients_to_buy = []\n",
        "for ingridients in cook_book.values():\n",
        "  for ingridient in ingridients:\n",
        "    ingridients_to_buy.append([ingridient['ingridient_name'], ingridient['quantity'] * portions, ingridient['measure']])"
      ],
      "metadata": {
        "id": "vDe7iyLLBcHv"
      },
      "execution_count": null,
      "outputs": []
    },
    {
      "cell_type": "code",
      "source": [
        "i = 0\n",
        "j = 0\n",
        "duplicate_index = []\n",
        "ingridients_to_buy_result = []\n",
        "\n",
        "for i in range(0, len(ingridients_to_buy)):\n",
        "  for j in range(i + 1, len(ingridients_to_buy)):\n",
        "    if (ingridients_to_buy[i][0] == ingridients_to_buy[j][0]) and (ingridients_to_buy[i][2] == ingridients_to_buy[j][2]):\n",
        "      ingridients_to_buy[i][1] += ingridients_to_buy[j][1]\n",
        "      duplicate_index.append(j)\n",
        "  if i not in duplicate_index:\n",
        "    ingridients_to_buy_result.append(ingridients_to_buy[i])\n",
        "\n",
        "for ingridient in ingridients_to_buy_result:\n",
        "  print('{}: {} {}'.format(ingridient[0], ingridient[1], ingridient[2]))"
      ],
      "metadata": {
        "colab": {
          "base_uri": "https://localhost:8080/"
        },
        "id": "UtD56sVbB2b_",
        "outputId": "a207b3f5-01cb-4700-d950-8fc08bb3f551"
      },
      "execution_count": null,
      "outputs": [
        {
          "output_type": "stream",
          "name": "stdout",
          "text": [
            "сыр: 210 гр\n",
            "томаты: 6 шт\n",
            "огурцы: 60 гр\n",
            "маслины: 30 гр\n",
            "оливковое масло: 60 мл\n",
            "салат: 30 гр\n",
            "перец: 60 гр\n",
            "колбаса: 90 гр\n",
            "бекон: 90 гр\n",
            "оливки: 30 гр\n",
            "томаты: 60 гр\n",
            "тесто: 300 гр\n",
            "лимон: 3 шт\n",
            "вода: 600 мл\n",
            "сахар: 30 гр\n",
            "лайм: 60 гр\n"
          ]
        }
      ]
    }
  ]
}
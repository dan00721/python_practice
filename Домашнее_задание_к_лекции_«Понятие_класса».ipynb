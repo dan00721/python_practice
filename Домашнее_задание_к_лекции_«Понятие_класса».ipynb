{
  "nbformat": 4,
  "nbformat_minor": 0,
  "metadata": {
    "colab": {
      "name": "Домашнее задание к лекции «Понятие класса».ipynb",
      "provenance": [],
      "collapsed_sections": [],
      "authorship_tag": "ABX9TyO53sGmaigTxJ9X8Y8oAR2Z",
      "include_colab_link": true
    },
    "kernelspec": {
      "name": "python3",
      "display_name": "Python 3"
    },
    "language_info": {
      "name": "python"
    }
  },
  "cells": [
    {
      "cell_type": "markdown",
      "metadata": {
        "id": "view-in-github",
        "colab_type": "text"
      },
      "source": [
        "<a href=\"https://colab.research.google.com/github/dan00721/python_practice/blob/main/%D0%94%D0%BE%D0%BC%D0%B0%D1%88%D0%BD%D0%B5%D0%B5_%D0%B7%D0%B0%D0%B4%D0%B0%D0%BD%D0%B8%D0%B5_%D0%BA_%D0%BB%D0%B5%D0%BA%D1%86%D0%B8%D0%B8_%C2%AB%D0%9F%D0%BE%D0%BD%D1%8F%D1%82%D0%B8%D0%B5_%D0%BA%D0%BB%D0%B0%D1%81%D1%81%D0%B0%C2%BB.ipynb\" target=\"_parent\"><img src=\"https://colab.research.google.com/assets/colab-badge.svg\" alt=\"Open In Colab\"/></a>"
      ]
    },
    {
      "cell_type": "markdown",
      "source": [
        "### Задание 1\n",
        "Напишите функцию, которая возвращает название валюты (поле ‘Name’) с максимальным значением курса с помощью сервиса https://www.cbr-xml-daily.ru/daily_json.js"
      ],
      "metadata": {
        "id": "M_a_Ot-NEVTL"
      }
    },
    {
      "cell_type": "code",
      "execution_count": 2,
      "metadata": {
        "id": "3ukKBDMoEMdT"
      },
      "outputs": [],
      "source": [
        "import requests"
      ]
    },
    {
      "cell_type": "code",
      "source": [
        "def currency_with_highest_exchange_rate():\n",
        "  r = requests.get('https://www.cbr-xml-daily.ru/daily_json.js')\n",
        "  valute = r.json()['Valute']\n",
        "\n",
        "  max_value = 0\n",
        "  for info in valute.values():\n",
        "    if info['Value'] > max_value:\n",
        "      max_value = info['Value']\n",
        "  \n",
        "  for info in valute.values():\n",
        "    if info['Value'] == max_value:\n",
        "      return info['Name']"
      ],
      "metadata": {
        "id": "xeLd1a47EyaU"
      },
      "execution_count": null,
      "outputs": []
    },
    {
      "cell_type": "code",
      "source": [
        "currency_with_highest_exchange_rate()"
      ],
      "metadata": {
        "colab": {
          "base_uri": "https://localhost:8080/",
          "height": 37
        },
        "id": "yOZrz8YuGmCF",
        "outputId": "2b00899a-98c2-4efb-cc63-8e1f4365ff6e"
      },
      "execution_count": null,
      "outputs": [
        {
          "output_type": "execute_result",
          "data": {
            "application/vnd.google.colaboratory.intrinsic+json": {
              "type": "string"
            },
            "text/plain": [
              "'СДР (специальные права заимствования)'"
            ]
          },
          "metadata": {},
          "execution_count": 3
        }
      ]
    },
    {
      "cell_type": "code",
      "source": [
        "r = requests.get('https://www.cbr-xml-daily.ru/daily_json.js')\n",
        "data_dict = r.json()['Valute']\n",
        "max(data_dict.items(), key=lambda x: x[1]['Value'])[1]['Name']"
      ],
      "metadata": {
        "colab": {
          "base_uri": "https://localhost:8080/",
          "height": 37
        },
        "id": "pwL8p4V546dq",
        "outputId": "0093899d-8064-4792-8726-6bad9776dbc8"
      },
      "execution_count": 14,
      "outputs": [
        {
          "output_type": "execute_result",
          "data": {
            "application/vnd.google.colaboratory.intrinsic+json": {
              "type": "string"
            },
            "text/plain": [
              "'СДР (специальные права заимствования)'"
            ]
          },
          "metadata": {},
          "execution_count": 14
        }
      ]
    },
    {
      "cell_type": "markdown",
      "source": [
        "### Задание 2\n",
        "Добавьте в класс Rate параметр diff (со значениями True или False), который в случае значения True в методах курсов валют (eur, usd итд) будет возвращать не курс валюты, а изменение по сравнению в прошлым значением. Считайте, self.diff будет принимать значение True только при возврате значения курса. При отображении всей информации о валюте он не используется."
      ],
      "metadata": {
        "id": "MXMUlSN0MFgW"
      }
    },
    {
      "cell_type": "code",
      "source": [
        "class Rate:\n",
        "    def __init__(self, format_ = 'value', diff_ = False):\n",
        "        self.format = format_ \n",
        "        self.diff = diff_\n",
        "\n",
        "    def exchange_rates(self):\n",
        "        \"\"\" \n",
        "        Возвращает ответ сервиса с информацией о валютах в виде:\n",
        "        \n",
        "        {\n",
        "            'AMD': {\n",
        "                'CharCode': 'AMD',\n",
        "                'ID': 'R01060',\n",
        "                'Name': 'Армянских драмов',\n",
        "                'Nominal': 100,\n",
        "                'NumCode': '051',\n",
        "                'Previous': 14.103,\n",
        "                'Value': 14.0879\n",
        "                },\n",
        "            ...\n",
        "        }\n",
        "        \"\"\"\n",
        "        self.r = requests.get('https://www.cbr-xml-daily.ru/daily_json.js')\n",
        "        return self.r.json()['Valute']\n",
        "    \n",
        "    def make_format(self, currency):\n",
        "        \"\"\"\n",
        "        Возвращает информацию о валюте currency в трех вариантах:\n",
        "        - полная информация о валюте при self.format = 'full':\n",
        "        Rate('full').make_format('EUR')\n",
        "        {\n",
        "            'CharCode': 'EUR',\n",
        "            'ID': 'R01239',\n",
        "            'Name': 'Евро',\n",
        "            'Nominal': 1,\n",
        "            'NumCode': '978',\n",
        "            'Previous': 79.6765,\n",
        "            'Value': 79.4966\n",
        "        }\n",
        "        \n",
        "        Rate('value', False).make_format('EUR')\n",
        "        79.4966\n",
        "\n",
        "        Rate('value', True).make_format('EUR)\n",
        "        3.5441\n",
        "        \"\"\"\n",
        "        response = self.exchange_rates()\n",
        "        \n",
        "        if currency in response:\n",
        "            if self.format == 'full':\n",
        "                return response[currency]\n",
        "            \n",
        "            if self.format == 'value':\n",
        "              if self.diff == False:\n",
        "                return response[currency]['Value']\n",
        "              elif self.diff == True:\n",
        "                return response[currency]['Value'] - response[currency]['Previous']\n",
        "              return 'Error'\n",
        "        \n",
        "        return 'Error'\n",
        "    \n",
        "    def eur(self):\n",
        "        \"\"\"Возвращает курс евро на сегодня в формате self.format\"\"\"\n",
        "        return self.make_format('EUR')\n",
        "    \n",
        "    def usd(self):\n",
        "        \"\"\"Возвращает курс доллара на сегодня в формате self.format\"\"\"\n",
        "        return self.make_format('USD')\n",
        "    \n",
        "    def brl(self):\n",
        "        \"\"\"Возвращает курс бразильского реала на сегодня в формате self.format\"\"\"\n",
        "        return self.make_format('BRL')"
      ],
      "metadata": {
        "id": "oUR9t2SvMCsU"
      },
      "execution_count": null,
      "outputs": []
    },
    {
      "cell_type": "code",
      "source": [
        "r = Rate(format_='value', diff_=True)\n",
        "r.eur()"
      ],
      "metadata": {
        "colab": {
          "base_uri": "https://localhost:8080/"
        },
        "id": "FaPkvXYUOKYj",
        "outputId": "4582e2ff-6bd3-4928-96c8-46567159ddf7"
      },
      "execution_count": null,
      "outputs": [
        {
          "output_type": "execute_result",
          "data": {
            "text/plain": [
              "3.5441000000000003"
            ]
          },
          "metadata": {},
          "execution_count": 116
        }
      ]
    },
    {
      "cell_type": "code",
      "source": [
        "r = Rate(format_='value', diff_=False)\n",
        "r.usd()"
      ],
      "metadata": {
        "colab": {
          "base_uri": "https://localhost:8080/"
        },
        "id": "uqAIcKQHRA2F",
        "outputId": "32c93053-3327-4138-bd72-9db7ac366c4a"
      },
      "execution_count": null,
      "outputs": [
        {
          "output_type": "execute_result",
          "data": {
            "text/plain": [
              "80.4194"
            ]
          },
          "metadata": {},
          "execution_count": 117
        }
      ]
    },
    {
      "cell_type": "code",
      "source": [
        "r = Rate(format_='value', diff_='TrueFalse')\n",
        "r.brl()"
      ],
      "metadata": {
        "colab": {
          "base_uri": "https://localhost:8080/",
          "height": 37
        },
        "id": "XDVMDvByRO3a",
        "outputId": "d5e54db6-68fa-4f90-bcc4-b4e38e37471a"
      },
      "execution_count": null,
      "outputs": [
        {
          "output_type": "execute_result",
          "data": {
            "application/vnd.google.colaboratory.intrinsic+json": {
              "type": "string"
            },
            "text/plain": [
              "'Error'"
            ]
          },
          "metadata": {},
          "execution_count": 118
        }
      ]
    },
    {
      "cell_type": "code",
      "source": [
        "r = Rate(format_='full', diff_=True) # при отображении всей инфы о валюте, diff_ игнорируется\n",
        "r.brl()"
      ],
      "metadata": {
        "colab": {
          "base_uri": "https://localhost:8080/"
        },
        "id": "-2gTsky_SnkC",
        "outputId": "2d7744dc-9f25-4965-f6fb-3e3f06bbe422"
      },
      "execution_count": null,
      "outputs": [
        {
          "output_type": "execute_result",
          "data": {
            "text/plain": [
              "{'CharCode': 'BRL',\n",
              " 'ID': 'R01115',\n",
              " 'Name': 'Бразильский реал',\n",
              " 'Nominal': 1,\n",
              " 'NumCode': '986',\n",
              " 'Previous': 14.9428,\n",
              " 'Value': 15.7565}"
            ]
          },
          "metadata": {},
          "execution_count": 119
        }
      ]
    },
    {
      "cell_type": "markdown",
      "source": [
        "### Задание 3\n",
        "Напишите класс Designer, который учитывает количество международных премий. \n",
        "#### Комментарий по классу Designer такой:\n",
        "Напишите класс Designer, который учитывает количество международных премий для дизайнеров (из презентации: “Повышение на 1 грейд за каждые 7 баллов. Получение международной премии – это +2 балла”). Считайте, что при выходе на работу сотрудник уже имеет две премии и их количество не меняется со стажем (конечно если хотите это можно вручную менять).\n",
        "\n",
        "Класс Designer пишется по аналогии с классом Developer из материалов занятия. Комментарий про его условия Вика написала выше: “Повышение на 1 грейд за каждые 7 баллов. Получение международной премии – это +2 балла”"
      ],
      "metadata": {
        "id": "qoQemYfFU8QF"
      }
    },
    {
      "cell_type": "code",
      "source": [
        "class Employee:\n",
        "  def __init__(self, name, seniority):\n",
        "    self.name = name\n",
        "    self.seniority = seniority\n",
        "        \n",
        "    self.grade = 1\n",
        "    \n",
        "  def grade_up(self):\n",
        "    \"\"\"Повышает уровень сотрудника\"\"\"\n",
        "    self.grade += 1\n",
        "    \n",
        "  def publish_grade(self):\n",
        "    \"\"\"Публикация результатов аккредитации сотрудников\"\"\"\n",
        "    print(self.name, self.grade)\n",
        "    \n",
        "  # этот метод нам нужно дописать\n",
        "  def check_if_it_is_time_for_upgrade(self):\n",
        "    pass"
      ],
      "metadata": {
        "id": "qHxffyr0S7w3"
      },
      "execution_count": null,
      "outputs": []
    },
    {
      "cell_type": "code",
      "source": [
        "class Designer(Employee):\n",
        "  def __init__(self, name, seniority, international_awards = 2):\n",
        "      super().__init__(name, seniority)\n",
        "      self.international_awards = international_awards\n",
        "      self.seniority += 2 * self.international_awards\n",
        "\n",
        "  def receive_international_award(self):\n",
        "    self.seniority += 2\n",
        "  \n",
        "  def check_if_it_is_time_for_upgrade(self):\n",
        "    # для каждой премии увеличиваем счетчик на 2\n",
        "    self.receive_international_award()\n",
        "\n",
        "    # условие повышения дизайнера из презентации\n",
        "    if self.seniority // 7 == 1:\n",
        "      self.seniority -= 7\n",
        "      self.grade_up()\n",
        "    \n",
        "     \n",
        "    # публикация результатов\n",
        "    return self.publish_grade()"
      ],
      "metadata": {
        "id": "M9Q3ZsjiddP3"
      },
      "execution_count": null,
      "outputs": []
    },
    {
      "cell_type": "code",
      "source": [
        "# имеет 2 премии + получает еще \n",
        "elena = Designer('Елена', 0)\n",
        "elena.grade"
      ],
      "metadata": {
        "colab": {
          "base_uri": "https://localhost:8080/"
        },
        "id": "TSiLPruLjY86",
        "outputId": "1e4a676d-541c-4af6-ac7a-6a879d9b9761"
      },
      "execution_count": null,
      "outputs": [
        {
          "output_type": "execute_result",
          "data": {
            "text/plain": [
              "1"
            ]
          },
          "metadata": {},
          "execution_count": 12
        }
      ]
    },
    {
      "cell_type": "code",
      "source": [
        "for i in range(20):\n",
        "  elena.check_if_it_is_time_for_upgrade()"
      ],
      "metadata": {
        "colab": {
          "base_uri": "https://localhost:8080/"
        },
        "id": "gzcBhmsmpOYB",
        "outputId": "b8f95885-1fcd-429b-da85-a85ae0e98625"
      },
      "execution_count": null,
      "outputs": [
        {
          "output_type": "stream",
          "name": "stdout",
          "text": [
            "Елена 1\n",
            "Елена 2\n",
            "Елена 2\n",
            "Елена 2\n",
            "Елена 3\n",
            "Елена 3\n",
            "Елена 3\n",
            "Елена 3\n",
            "Елена 4\n",
            "Елена 4\n",
            "Елена 4\n",
            "Елена 5\n",
            "Елена 5\n",
            "Елена 5\n",
            "Елена 5\n",
            "Елена 6\n",
            "Елена 6\n",
            "Елена 6\n",
            "Елена 7\n",
            "Елена 7\n"
          ]
        }
      ]
    },
    {
      "cell_type": "code",
      "source": [
        "# не имеет премий изначально, но получает их позже)\n",
        "oleg = Designer('Олег', 0, 0)\n",
        "oleg.grade"
      ],
      "metadata": {
        "colab": {
          "base_uri": "https://localhost:8080/"
        },
        "id": "2CX7rgaDygxd",
        "outputId": "62bc1f1f-61d1-4ed0-d9b7-ddd4394c96f8"
      },
      "execution_count": null,
      "outputs": [
        {
          "output_type": "execute_result",
          "data": {
            "text/plain": [
              "1"
            ]
          },
          "metadata": {},
          "execution_count": 14
        }
      ]
    },
    {
      "cell_type": "code",
      "source": [
        "for i in range(20):\n",
        "  oleg.check_if_it_is_time_for_upgrade()"
      ],
      "metadata": {
        "colab": {
          "base_uri": "https://localhost:8080/"
        },
        "id": "cpAdDk5azm-M",
        "outputId": "bbc6c836-5755-41d0-eeb1-b2d831c40bca"
      },
      "execution_count": null,
      "outputs": [
        {
          "output_type": "stream",
          "name": "stdout",
          "text": [
            "Олег 1\n",
            "Олег 1\n",
            "Олег 1\n",
            "Олег 2\n",
            "Олег 2\n",
            "Олег 2\n",
            "Олег 3\n",
            "Олег 3\n",
            "Олег 3\n",
            "Олег 3\n",
            "Олег 4\n",
            "Олег 4\n",
            "Олег 4\n",
            "Олег 5\n",
            "Олег 5\n",
            "Олег 5\n",
            "Олег 5\n",
            "Олег 6\n",
            "Олег 6\n",
            "Олег 6\n"
          ]
        }
      ]
    }
  ]
}
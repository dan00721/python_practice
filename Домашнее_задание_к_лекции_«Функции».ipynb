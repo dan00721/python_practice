{
  "nbformat": 4,
  "nbformat_minor": 0,
  "metadata": {
    "colab": {
      "name": "Домашнее задание к лекции «Функции».ipynb",
      "provenance": [],
      "collapsed_sections": [],
      "authorship_tag": "ABX9TyNTL6BmJ2Ilbrchi7yY8Nq4",
      "include_colab_link": true
    },
    "kernelspec": {
      "name": "python3",
      "display_name": "Python 3"
    },
    "language_info": {
      "name": "python"
    }
  },
  "cells": [
    {
      "cell_type": "markdown",
      "metadata": {
        "id": "view-in-github",
        "colab_type": "text"
      },
      "source": [
        "<a href=\"https://colab.research.google.com/github/dan00721/python_practice/blob/main/%D0%94%D0%BE%D0%BC%D0%B0%D1%88%D0%BD%D0%B5%D0%B5_%D0%B7%D0%B0%D0%B4%D0%B0%D0%BD%D0%B8%D0%B5_%D0%BA_%D0%BB%D0%B5%D0%BA%D1%86%D0%B8%D0%B8_%C2%AB%D0%A4%D1%83%D0%BD%D0%BA%D1%86%D0%B8%D0%B8%C2%BB.ipynb\" target=\"_parent\"><img src=\"https://colab.research.google.com/assets/colab-badge.svg\" alt=\"Open In Colab\"/></a>"
      ]
    },
    {
      "cell_type": "markdown",
      "source": [
        "Вам нужно помочь секретарю автоматизировать работу. Для этого нужно написать программу, которая будет на основе хранимых данных исполнять пользовательские команды."
      ],
      "metadata": {
        "id": "1dMOM0UL7RNr"
      }
    },
    {
      "cell_type": "markdown",
      "source": [
        "Исходные данные имеют следующую структуру:"
      ],
      "metadata": {
        "id": "FWQKgTEH7Ukl"
      }
    },
    {
      "cell_type": "code",
      "execution_count": 73,
      "metadata": {
        "id": "8uhYCmTe5vIl"
      },
      "outputs": [],
      "source": [
        "# перечень всех документов\n",
        "documents = [\n",
        " {'type': 'passport', 'number': '2207 876234', 'name': 'Василий Гупкин'},\n",
        " {'type': 'invoice', 'number': '11-2', 'name': 'Геннадий Покемонов'},\n",
        " {'type': 'insurance', 'number': '10006', 'name': 'Аристарх Павлов'}\n",
        "]"
      ]
    },
    {
      "cell_type": "code",
      "source": [
        "# перечень полок, на которых хранятся документы (если документ есть в documents, то он обязательно должен быть и в directories)\n",
        "directories = {\n",
        " '1': ['2207 876234', '11-2'],\n",
        " '2': ['10006'],\n",
        " '3': []\n",
        "}"
      ],
      "metadata": {
        "id": "TQhd8rod7c8r"
      },
      "execution_count": 74,
      "outputs": []
    },
    {
      "cell_type": "markdown",
      "source": [
        "Общие требования к программе:\n",
        "* код должен быть грамотно декомпозирован (каждая функция отвечает за свою \n",
        "конкретную задачу, дублирующийся функционал переиспользуется, а его код не повторяется);\n",
        "* в коде отсутствуют глобальные переменные (за исключением documents и directories);\n",
        "* пользовательский ввод обрабатывается в цикле while до тех пор, пока пользователь явно не завершит программу (вводом команды \"q\")."
      ],
      "metadata": {
        "id": "cznqR6CX7l78"
      }
    },
    {
      "cell_type": "code",
      "source": [
        "command = input('Введите команду (p, s, l, ads, ds, ad, d, m, q-выход): ')\n",
        "\n",
        "while command != 'q':\n",
        "  command_choice(command)\n",
        "  command = input('Введите команду (p, s, l, ads, ds, ad, d, m, q-выход): ')"
      ],
      "metadata": {
        "colab": {
          "base_uri": "https://localhost:8080/"
        },
        "id": "ac4wI4S0BmDN",
        "outputId": "0bfe88e8-6c46-4788-e47a-5f4182dda52c"
      },
      "execution_count": 76,
      "outputs": [
        {
          "name": "stdout",
          "output_type": "stream",
          "text": [
            "Введите команду (p, s, l, ads, ds, ad, d, m, q-выход): p\n",
            "Введите номер документа: 10006\n",
            "Владелец документа: Аристарх Павлов\n",
            "Введите команду (p, s, l, ads, ds, ad, d, m, q-выход): p\n",
            "Введите номер документа: 12345\n",
            "Документ не найден в базе\n",
            "Введите команду (p, s, l, ads, ds, ad, d, m, q-выход): s\n",
            "Введите номер документа: 10006\n",
            "Документ хранится на полке: 2\n",
            "Введите команду (p, s, l, ads, ds, ad, d, m, q-выход): s\n",
            "Введите номер документа: 12345\n",
            "Документ не найден в базе\n",
            "Введите команду (p, s, l, ads, ds, ad, d, m, q-выход): l\n",
            "№: 2207 876234, тип: passport, владелец: Василий Гупкин, полка хранения: 1\n",
            "№: 11-2, тип: invoice, владелец: Геннадий Покемонов, полка хранения: 1\n",
            "№: 10006, тип: insurance, владелец: Аристарх Павлов, полка хранения: 2\n",
            "Введите команду (p, s, l, ads, ds, ad, d, m, q-выход): ads\n",
            "Введите номер полки: 10\n",
            "Полка добавлена. Текущий перечень полок: 1, 2, 3, 10\n",
            "Введите команду (p, s, l, ads, ds, ad, d, m, q-выход): ads\n",
            "Введите номер полки: 1\n",
            "Такая полка уже существует. Текущий перечень полок: 1, 2, 3, 10\n",
            "Введите команду (p, s, l, ads, ds, ad, d, m, q-выход): ds\n",
            "Введите номер полки: 3\n",
            "Полка удалена. Текущий перечень полок: 1, 2, 10\n",
            "Введите команду (p, s, l, ads, ds, ad, d, m, q-выход): ds\n",
            "Введите номер полки: 1\n",
            "На полке есть документы, удалите их перед удалением полки. Текущий перечень полок: 1, 2, 10\n",
            "Введите команду (p, s, l, ads, ds, ad, d, m, q-выход): ds\n",
            "Введите номер полки: 4\n",
            "Такой полки не существует. Текущий перечень полок: 1, 2, 10\n",
            "Введите команду (p, s, l, ads, ds, ad, d, m, q-выход): ad\n",
            "Введите номер документа: 42\n",
            "Введите тип документа: multipassport\n",
            "Введите владельца документа: R2D2\n",
            "Введите полку для хранения: 3\n",
            "Такой полки не существует. Добавьте полку командой as.\n",
            "Текущий список документов:\n",
            "№: 2207 876234, тип: passport, владелец: Василий Гупкин, полка хранения: 1\n",
            "№: 11-2, тип: invoice, владелец: Геннадий Покемонов, полка хранения: 1\n",
            "№: 10006, тип: insurance, владелец: Аристарх Павлов, полка хранения: 2\n",
            "Введите команду (p, s, l, ads, ds, ad, d, m, q-выход): ad\n",
            "Введите номер документа: 42\n",
            "Введите тип документа: multipassport\n",
            "Введите владельца документа: R2D2\n",
            "Введите полку для хранения: 2\n",
            "Документ добавлен.\n",
            "Текущий список документов:\n",
            "№: 2207 876234, тип: passport, владелец: Василий Гупкин, полка хранения: 1\n",
            "№: 11-2, тип: invoice, владелец: Геннадий Покемонов, полка хранения: 1\n",
            "№: 10006, тип: insurance, владелец: Аристарх Павлов, полка хранения: 2\n",
            "№: 42, тип: multipassport, владелец: R2D2, полка хранения: 2\n",
            "Введите команду (p, s, l, ads, ds, ad, d, m, q-выход): d\n",
            "Введите номер документа: 10006\n",
            "Документ удален.\n",
            "Текущий список документов:\n",
            "№: 2207 876234, тип: passport, владелец: Василий Гупкин, полка хранения: 1\n",
            "№: 11-2, тип: invoice, владелец: Геннадий Покемонов, полка хранения: 1\n",
            "№: 42, тип: multipassport, владелец: R2D2, полка хранения: 2\n",
            "Введите команду (p, s, l, ads, ds, ad, d, m, q-выход): d\n",
            "Введите номер документа: 12345\n",
            "Документ не найден в базе.\n",
            "Текущий список документов:\n",
            "№: 2207 876234, тип: passport, владелец: Василий Гупкин, полка хранения: 1\n",
            "№: 11-2, тип: invoice, владелец: Геннадий Покемонов, полка хранения: 1\n",
            "№: 42, тип: multipassport, владелец: R2D2, полка хранения: 2\n",
            "Введите команду (p, s, l, ads, ds, ad, d, m, q-выход): m\n",
            "Введите номер документа: 11-2\n",
            "Введите номер полки: 3\n",
            "Такой полки не существует. Текущий перечень полок: 1, 2, 10\n",
            "Введите команду (p, s, l, ads, ds, ad, d, m, q-выход): m\n",
            "Введите номер документа: 11-1\n",
            "Введите номер полки: 1\n",
            "Документ не найден в базе.\n",
            "Текущий список документов:\n",
            "№: 2207 876234, тип: passport, владелец: Василий Гупкин, полка хранения: 1\n",
            "№: 11-2, тип: invoice, владелец: Геннадий Покемонов, полка хранения: 1\n",
            "№: 42, тип: multipassport, владелец: R2D2, полка хранения: 2\n",
            "Введите команду (p, s, l, ads, ds, ad, d, m, q-выход): m\n",
            "Введите номер документа: 11-2\n",
            "Введите номер полки: 10\n",
            "Документ перемещен.\n",
            "Текущий список документов:\n",
            "№: 2207 876234, тип: passport, владелец: Василий Гупкин, полка хранения: 1\n",
            "№: 11-2, тип: invoice, владелец: Геннадий Покемонов, полка хранения: 10\n",
            "№: 42, тип: multipassport, владелец: R2D2, полка хранения: 2\n",
            "Введите команду (p, s, l, ads, ds, ad, d, m, q-выход): q\n"
          ]
        }
      ]
    },
    {
      "cell_type": "code",
      "source": [
        "def command_choice(command):\n",
        "  if command == 'p':\n",
        "    doc_number = input('Введите номер документа: ')\n",
        "    print(doc_owner(doc_number))\n",
        "  elif command == 's':\n",
        "    doc_number = input('Введите номер документа: ')\n",
        "    if shelf_search(doc_number):\n",
        "      print('Документ хранится на полке:', shelf_search(doc_number))\n",
        "    else:\n",
        "      print('Документ не найден в базе')\n",
        "  elif command == 'l':\n",
        "    full_info()\n",
        "  elif command == 'ads':\n",
        "    shelf_number = input('Введите номер полки: ')\n",
        "    add_shelf(shelf_number)\n",
        "  elif command == 'ds':\n",
        "    shelf_number = input('Введите номер полки: ')\n",
        "    delete_empty_shelf(shelf_number)\n",
        "  elif command == 'ad':\n",
        "    doc_number = input('Введите номер документа: ')\n",
        "    doc_type = input('Введите тип документа: ')\n",
        "    doc_name = input('Введите владельца документа: ')\n",
        "    shelf_number = input('Введите полку для хранения: ')\n",
        "    add_document(doc_number, doc_type, doc_name, shelf_number)\n",
        "  elif command =='d':\n",
        "    doc_number = input('Введите номер документа: ')\n",
        "    delete_document(doc_number)\n",
        "  elif command == 'm':\n",
        "    doc_number = input('Введите номер документа: ')\n",
        "    shelf_number = input('Введите номер полки: ')\n",
        "    move_document(doc_number, shelf_number)\n",
        "  else:\n",
        "    print('Такой команды не существует!')"
      ],
      "metadata": {
        "id": "U70a4H0djkw-"
      },
      "execution_count": 75,
      "outputs": []
    },
    {
      "cell_type": "markdown",
      "source": [
        "## Задание 1\n",
        "\n",
        "### Пункт 1. Пользователь по команде \"p\" может узнать владельца документа по его номеру"
      ],
      "metadata": {
        "id": "wzE2RDfO73t8"
      }
    },
    {
      "cell_type": "code",
      "source": [
        "def doc_owner(doc_number):\n",
        "  for document in documents:\n",
        "    if document['number'] == doc_number:\n",
        "      return 'Владелец документа: ' + document['name']\n",
        "  return'Документ не найден в базе'"
      ],
      "metadata": {
        "id": "25FeA1Fj7isB"
      },
      "execution_count": 65,
      "outputs": []
    },
    {
      "cell_type": "markdown",
      "source": [
        "### Пункт 2. Пользователь по команде \"s\" может по номеру документа узнать на какой полке он хранится"
      ],
      "metadata": {
        "id": "AAg5tSSwDASJ"
      }
    },
    {
      "cell_type": "code",
      "source": [
        "def shelf_search(doc_number):\n",
        "  for key, value in directories.items():\n",
        "    if doc_number in value:\n",
        "      return key"
      ],
      "metadata": {
        "id": "rHM5fyfX-QiC"
      },
      "execution_count": 66,
      "outputs": []
    },
    {
      "cell_type": "markdown",
      "source": [
        "### Пункт 3. Пользователь по команде \"l\" может увидеть полную информацию по всем документам"
      ],
      "metadata": {
        "id": "4qDJ-gt8IjfS"
      }
    },
    {
      "cell_type": "code",
      "source": [
        "def full_info():\n",
        "  for document in documents:\n",
        "    print('№: {}, тип: {}, владелец: {}, полка хранения: {}'.format(document['number'], document['type'], document['name'], shelf_search(document['number'])))"
      ],
      "metadata": {
        "id": "S1_Lo2bqFeZ_"
      },
      "execution_count": 67,
      "outputs": []
    },
    {
      "cell_type": "markdown",
      "source": [
        "### Пункт 4. Пользователь по команде \"ads\" может добавить новую полку"
      ],
      "metadata": {
        "id": "AHZR8A2SZiGz"
      }
    },
    {
      "cell_type": "code",
      "source": [
        "def add_shelf(shelf_number):\n",
        "  if shelf_number in directories:\n",
        "    print('Такая полка уже существует.', end=' ')\n",
        "  else:\n",
        "    directories[shelf_number] = []\n",
        "    print('Полка добавлена.', end=' ')\n",
        "  print('Текущий перечень полок:', ', '.join(directories.keys()))"
      ],
      "metadata": {
        "id": "qViwimPWU_Hv"
      },
      "execution_count": 68,
      "outputs": []
    },
    {
      "cell_type": "markdown",
      "source": [
        "### Пункт 5. Пользователь по команде \"ds\" может удалить существующую полку из данных (только если она пустая)"
      ],
      "metadata": {
        "id": "ju1wpwOVelxD"
      }
    },
    {
      "cell_type": "code",
      "source": [
        "def delete_empty_shelf(shelf_number):\n",
        "  if shelf_number in directories:\n",
        "    if not len(directories[shelf_number]):\n",
        "      del(directories[shelf_number])\n",
        "      print('Полка удалена.', end=' ')\n",
        "    else:\n",
        "      print('На полке есть документы, удалите их перед удалением полки.', end=' ')\n",
        "  else:\n",
        "    print('Такой полки не существует.', end=' ')\n",
        "  print('Текущий перечень полок:', ', '.join(directories.keys()))"
      ],
      "metadata": {
        "id": "CpiRFjhha1R3"
      },
      "execution_count": 69,
      "outputs": []
    },
    {
      "cell_type": "markdown",
      "source": [
        "### Задание 2 (необязательное)\n",
        "\n",
        "Вам необходимо дополнить программу из задания 1 более продвинутыми командами."
      ],
      "metadata": {
        "id": "EV-8JURtGXIg"
      }
    },
    {
      "cell_type": "markdown",
      "source": [
        "### Пункт 1. Пользователь по команде \"ad\" может добавить новый документ в данные"
      ],
      "metadata": {
        "id": "if1U5tSCGioW"
      }
    },
    {
      "cell_type": "code",
      "source": [
        "def add_document(doc_number, doc_type, doc_name, shelf_number):\n",
        "  if shelf_number in directories:\n",
        "    if doc_owner(doc_number) == 'Документ не найден в базе':\n",
        "      documents.append({'type':doc_type, 'number':doc_number, 'name':doc_name})\n",
        "      directories[shelf_number].append(doc_number)\n",
        "      print('Документ добавлен.')\n",
        "    else:\n",
        "      print('Такой документ уже существует.')\n",
        "  else:\n",
        "    print('Такой полки не существует. Добавьте полку командой as.')\n",
        "  print('Текущий список документов:')\n",
        "  full_info()"
      ],
      "metadata": {
        "id": "OJUeDBkXiUB3"
      },
      "execution_count": 70,
      "outputs": []
    },
    {
      "cell_type": "markdown",
      "source": [
        "### Пункт 2. Пользователь по команде \"d\" может удалить документ из данных"
      ],
      "metadata": {
        "id": "16g90XMcLYIT"
      }
    },
    {
      "cell_type": "code",
      "source": [
        "def delete_document(doc_number):\n",
        "  if doc_owner(doc_number) != 'Документ не найден в базе':\n",
        "    for document in documents:\n",
        "      if document['number'] == doc_number:\n",
        "        documents.remove(document)\n",
        "        directories[shelf_search(doc_number)].remove(doc_number)\n",
        "        print('Документ удален.')\n",
        "        break\n",
        "  else:\n",
        "    print('Документ не найден в базе.')\n",
        "  print('Текущий список документов:')\n",
        "  full_info()"
      ],
      "metadata": {
        "id": "jcLOdL1pKPKN"
      },
      "execution_count": 71,
      "outputs": []
    },
    {
      "cell_type": "markdown",
      "source": [
        "### Пункт 3. Пользователь по команде \"m\" может переместить документ с полки на полку"
      ],
      "metadata": {
        "id": "yvAYyoaPUFZX"
      }
    },
    {
      "cell_type": "code",
      "source": [
        "def move_document(doc_number, shelf_number):\n",
        "  if doc_owner(doc_number) != 'Документ не найден в базе':\n",
        "    if shelf_number in directories:\n",
        "      directories[shelf_search(doc_number)].remove(doc_number)\n",
        "      directories[shelf_number].append(doc_number)\n",
        "      print('Документ перемещен.', 'Текущий список документов:', sep='\\n')\n",
        "      full_info()\n",
        "    else:\n",
        "      print('Такой полки не существует. Текущий перечень полок:', ', '.join(directories.keys()))\n",
        "  else:\n",
        "    print('Документ не найден в базе.', 'Текущий список документов:', sep='\\n')\n",
        "    full_info()"
      ],
      "metadata": {
        "id": "Yx1Kr1FHR2x9"
      },
      "execution_count": 72,
      "outputs": []
    }
  ]
}
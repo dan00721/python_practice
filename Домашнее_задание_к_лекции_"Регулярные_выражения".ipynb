{
  "nbformat": 4,
  "nbformat_minor": 0,
  "metadata": {
    "colab": {
      "name": "Домашнее задание к лекции \"Регулярные выражения\".ipynb",
      "provenance": [],
      "collapsed_sections": [],
      "authorship_tag": "ABX9TyOJtZZxvdnaaNIINiCdvPts",
      "include_colab_link": true
    },
    "kernelspec": {
      "name": "python3",
      "display_name": "Python 3"
    },
    "language_info": {
      "name": "python"
    }
  },
  "cells": [
    {
      "cell_type": "markdown",
      "metadata": {
        "id": "view-in-github",
        "colab_type": "text"
      },
      "source": [
        "<a href=\"https://colab.research.google.com/github/dan00721/python_practice/blob/main/%D0%94%D0%BE%D0%BC%D0%B0%D1%88%D0%BD%D0%B5%D0%B5_%D0%B7%D0%B0%D0%B4%D0%B0%D0%BD%D0%B8%D0%B5_%D0%BA_%D0%BB%D0%B5%D0%BA%D1%86%D0%B8%D0%B8_%22%D0%A0%D0%B5%D0%B3%D1%83%D0%BB%D1%8F%D1%80%D0%BD%D1%8B%D0%B5_%D0%B2%D1%8B%D1%80%D0%B0%D0%B6%D0%B5%D0%BD%D0%B8%D1%8F%22.ipynb\" target=\"_parent\"><img src=\"https://colab.research.google.com/assets/colab-badge.svg\" alt=\"Open In Colab\"/></a>"
      ]
    },
    {
      "cell_type": "markdown",
      "source": [
        "### Задание 1\n",
        "Напишите функцию, которая принимает на вход строку и проверяет является ли она валидным транспортным номером (1 буква, 3 цифры, 2 буквы, 2-3 цифры). Обратите внимание, что не все буквы кириллического алфавита используются в транспортных номерах.\n",
        "\n",
        "Если номер валиден, то функция должна возвращать отдельно номер и регион."
      ],
      "metadata": {
        "id": "JHvKmwhfOxY8"
      }
    },
    {
      "cell_type": "code",
      "source": [
        "import re"
      ],
      "metadata": {
        "id": "Ek2RicirO1Dq"
      },
      "execution_count": 243,
      "outputs": []
    },
    {
      "cell_type": "code",
      "source": [
        "def is_valid(car_id):\n",
        "  if re.fullmatch(r'[АВЕКМНОРСТУХ]\\d{3}[АВЕКМНОРСТУХ]{2}\\d{2,3}', car_id):\n",
        "    print('Номер', car_id, 'валиден. Регион:', car_id[6:])\n",
        "  else:\n",
        "    print('Номер не валиден')"
      ],
      "metadata": {
        "id": "1sADfByvXzpS"
      },
      "execution_count": 244,
      "outputs": []
    },
    {
      "cell_type": "code",
      "source": [
        "car_id = 'А222ВС96'\n",
        "\n",
        "is_valid(car_id)"
      ],
      "metadata": {
        "colab": {
          "base_uri": "https://localhost:8080/"
        },
        "id": "pNs8dbq5f9ty",
        "outputId": "e3765902-f7aa-411f-b873-59d10f339fd1"
      },
      "execution_count": 245,
      "outputs": [
        {
          "output_type": "stream",
          "name": "stdout",
          "text": [
            "Номер А222ВС96 валиден. Регион: 96\n"
          ]
        }
      ]
    },
    {
      "cell_type": "code",
      "source": [
        "car_id = 'АБ22ВВ193'\n",
        "\n",
        "is_valid(car_id)"
      ],
      "metadata": {
        "colab": {
          "base_uri": "https://localhost:8080/"
        },
        "id": "7t-XIfH7gG5F",
        "outputId": "d199aec8-3875-48a0-e5c0-8f978274e238"
      },
      "execution_count": 246,
      "outputs": [
        {
          "output_type": "stream",
          "name": "stdout",
          "text": [
            "Номер не валиден\n"
          ]
        }
      ]
    },
    {
      "cell_type": "code",
      "source": [
        "car_id = 'А222ВС777'\n",
        "\n",
        "is_valid(car_id)"
      ],
      "metadata": {
        "colab": {
          "base_uri": "https://localhost:8080/"
        },
        "id": "yR_TIuHRghri",
        "outputId": "09536252-f2d3-42f1-e9b0-4f93337732fd"
      },
      "execution_count": 247,
      "outputs": [
        {
          "output_type": "stream",
          "name": "stdout",
          "text": [
            "Номер А222ВС777 валиден. Регион: 777\n"
          ]
        }
      ]
    },
    {
      "cell_type": "code",
      "source": [
        "car_id = 'А222ВС777А222ВС777'\n",
        "\n",
        "is_valid(car_id)"
      ],
      "metadata": {
        "colab": {
          "base_uri": "https://localhost:8080/"
        },
        "id": "JXd9E7MGlAvd",
        "outputId": "00a1bf5d-dde3-4632-e1d1-dd2489e3f21f"
      },
      "execution_count": 248,
      "outputs": [
        {
          "output_type": "stream",
          "name": "stdout",
          "text": [
            "Номер не валиден\n"
          ]
        }
      ]
    },
    {
      "cell_type": "code",
      "source": [
        "car_id = 'Ю222ЮЮ777'\n",
        "\n",
        "is_valid(car_id)"
      ],
      "metadata": {
        "colab": {
          "base_uri": "https://localhost:8080/"
        },
        "id": "yAvVXTf3lLhk",
        "outputId": "16f53f6e-d2a3-4be1-a316-55f3cfb598f3"
      },
      "execution_count": 249,
      "outputs": [
        {
          "output_type": "stream",
          "name": "stdout",
          "text": [
            "Номер не валиден\n"
          ]
        }
      ]
    },
    {
      "cell_type": "markdown",
      "source": [
        "### Задание 2\n",
        "Напишите функцию, которая будет удалять все последовательные повторы слов из заданной строки при помощи регулярных выражений."
      ],
      "metadata": {
        "id": "tJHmMyMn1DsZ"
      }
    },
    {
      "cell_type": "code",
      "source": [
        "some_string = 'Напишите функцию функцию, которая будет будет будет будет удалять все все все все последовательные повторы слов из из из из заданной строки строки при помощи регулярных выражений.'"
      ],
      "metadata": {
        "id": "zK3vokdD1K0t"
      },
      "execution_count": 250,
      "outputs": []
    },
    {
      "cell_type": "code",
      "source": [
        "def delete_repetitions(some_string):\n",
        "  return re.sub(r'(\\w+)(\\s+\\1)+', r'\\1', some_string)"
      ],
      "metadata": {
        "id": "EcTW_d8Q1-UI"
      },
      "execution_count": 251,
      "outputs": []
    },
    {
      "cell_type": "code",
      "source": [
        "delete_repetitions(some_string)"
      ],
      "metadata": {
        "colab": {
          "base_uri": "https://localhost:8080/",
          "height": 37
        },
        "id": "XaWQUOOL6Afv",
        "outputId": "23ff710d-8e19-4c44-c59e-5216dd1d5331"
      },
      "execution_count": 252,
      "outputs": [
        {
          "output_type": "execute_result",
          "data": {
            "application/vnd.google.colaboratory.intrinsic+json": {
              "type": "string"
            },
            "text/plain": [
              "'Напишите функцию, которая будет удалять все последовательные повторы слов из заданной строки при помощи регулярных выражений.'"
            ]
          },
          "metadata": {},
          "execution_count": 252
        }
      ]
    },
    {
      "cell_type": "code",
      "source": [
        "delete_repetitions('a a a a,   b c c, f f f a')"
      ],
      "metadata": {
        "colab": {
          "base_uri": "https://localhost:8080/",
          "height": 37
        },
        "id": "20zsrPMb7JtG",
        "outputId": "4c30e95e-9fa3-4a12-9eef-25cca0d1668f"
      },
      "execution_count": 253,
      "outputs": [
        {
          "output_type": "execute_result",
          "data": {
            "application/vnd.google.colaboratory.intrinsic+json": {
              "type": "string"
            },
            "text/plain": [
              "'a,   b c, f a'"
            ]
          },
          "metadata": {},
          "execution_count": 253
        }
      ]
    },
    {
      "cell_type": "markdown",
      "source": [
        "### Задание 3\n",
        "Напишите функцию, которая будет возвращать акроним по переданной в нее строке со словами."
      ],
      "metadata": {
        "id": "vb9y1IcnDcLm"
      }
    },
    {
      "cell_type": "code",
      "source": [
        "some_words = 'Информационные технологии'"
      ],
      "metadata": {
        "id": "PdAMq2ES_Ljx"
      },
      "execution_count": 254,
      "outputs": []
    },
    {
      "cell_type": "code",
      "source": [
        "def acronym(some_words):\n",
        "  return re.sub(r'\\b(\\w)\\w+', r'\\1', some_words).upper()\n",
        "\n",
        "def acronym_v2(some_words):\n",
        "  return ''.join(re.findall(r'\\b\\w', some_words)).upper()"
      ],
      "metadata": {
        "id": "hU6HAHd44BT9"
      },
      "execution_count": 255,
      "outputs": []
    },
    {
      "cell_type": "code",
      "source": [
        "acronym(some_words)"
      ],
      "metadata": {
        "colab": {
          "base_uri": "https://localhost:8080/",
          "height": 37
        },
        "id": "YsReBNfD9Fef",
        "outputId": "96e39ab3-e284-4134-dea0-f56179eccbe0"
      },
      "execution_count": 256,
      "outputs": [
        {
          "output_type": "execute_result",
          "data": {
            "application/vnd.google.colaboratory.intrinsic+json": {
              "type": "string"
            },
            "text/plain": [
              "'И Т'"
            ]
          },
          "metadata": {},
          "execution_count": 256
        }
      ]
    },
    {
      "cell_type": "code",
      "source": [
        "some_words = 'Near Field Communication'\n",
        "\n",
        "acronym(some_words)"
      ],
      "metadata": {
        "colab": {
          "base_uri": "https://localhost:8080/",
          "height": 37
        },
        "id": "cPl5PkHT9Jey",
        "outputId": "435e47f2-e6be-4e38-821c-a5bcd4d41a01"
      },
      "execution_count": 257,
      "outputs": [
        {
          "output_type": "execute_result",
          "data": {
            "application/vnd.google.colaboratory.intrinsic+json": {
              "type": "string"
            },
            "text/plain": [
              "'N F C'"
            ]
          },
          "metadata": {},
          "execution_count": 257
        }
      ]
    },
    {
      "cell_type": "code",
      "source": [
        "some_words = 'Информационные технологии'\n",
        "\n",
        "acronym_v2(some_words)"
      ],
      "metadata": {
        "colab": {
          "base_uri": "https://localhost:8080/",
          "height": 37
        },
        "id": "x25Dk3Ur_X_E",
        "outputId": "3151f5bd-8b64-4719-e9ae-e8ed508c1238"
      },
      "execution_count": 258,
      "outputs": [
        {
          "output_type": "execute_result",
          "data": {
            "application/vnd.google.colaboratory.intrinsic+json": {
              "type": "string"
            },
            "text/plain": [
              "'ИТ'"
            ]
          },
          "metadata": {},
          "execution_count": 258
        }
      ]
    },
    {
      "cell_type": "code",
      "source": [
        "some_words = 'Near Field Communication'\n",
        "\n",
        "acronym_v2(some_words)"
      ],
      "metadata": {
        "colab": {
          "base_uri": "https://localhost:8080/",
          "height": 37
        },
        "id": "e6vFE890_4YD",
        "outputId": "3b6af87a-aab6-437b-da8b-d8c78aaf1ab2"
      },
      "execution_count": 259,
      "outputs": [
        {
          "output_type": "execute_result",
          "data": {
            "application/vnd.google.colaboratory.intrinsic+json": {
              "type": "string"
            },
            "text/plain": [
              "'NFC'"
            ]
          },
          "metadata": {},
          "execution_count": 259
        }
      ]
    },
    {
      "cell_type": "markdown",
      "source": [
        "### Задание 4\n",
        "Напишите функцию, которая будет принимать на вход список email-адресов и выводить их распределение по доменным зонам."
      ],
      "metadata": {
        "id": "FvdypTT7AGBP"
      }
    },
    {
      "cell_type": "code",
      "source": [
        "emails = ['test@gmail.com', 'xyz@test.in', 'test@ya.ru', 'xyz@mail.ru', 'xyz@ya.ru', 'xyz@gmail.com']"
      ],
      "metadata": {
        "id": "VQoJ762MAHjr"
      },
      "execution_count": 260,
      "outputs": []
    },
    {
      "cell_type": "code",
      "source": [
        "def domains_count(emails):\n",
        "  domains = {}\n",
        "  for email in emails:\n",
        "    domain = re.sub(r'\\w+@(\\w+.\\w+)', r'\\1', email)\n",
        "    if domain not in domains:\n",
        "      domains[domain] = 1\n",
        "    else:\n",
        "      domains[domain] +=1\n",
        "  for key, value in domains.items():\n",
        "    print('{}: {}'.format(key, value))"
      ],
      "metadata": {
        "id": "OXWRh_uJAwZF"
      },
      "execution_count": 261,
      "outputs": []
    },
    {
      "cell_type": "code",
      "source": [
        "domains_count(emails)"
      ],
      "metadata": {
        "colab": {
          "base_uri": "https://localhost:8080/"
        },
        "id": "zepfq4lYImMh",
        "outputId": "30d1e095-1a12-41fb-e65e-e36462c9ade2"
      },
      "execution_count": 262,
      "outputs": [
        {
          "output_type": "stream",
          "name": "stdout",
          "text": [
            "gmail.com: 2\n",
            "test.in: 1\n",
            "ya.ru: 2\n",
            "mail.ru: 1\n"
          ]
        }
      ]
    },
    {
      "cell_type": "code",
      "source": [
        "emails += ['qwerty@ya.ru', 'uiop@yandex.ru']\n",
        "\n",
        "domains_count(emails)"
      ],
      "metadata": {
        "colab": {
          "base_uri": "https://localhost:8080/"
        },
        "id": "EGJQ8oDsCOcb",
        "outputId": "9a62d474-6092-4aaa-dd0f-5656efd8ff0f"
      },
      "execution_count": 263,
      "outputs": [
        {
          "output_type": "stream",
          "name": "stdout",
          "text": [
            "gmail.com: 2\n",
            "test.in: 1\n",
            "ya.ru: 3\n",
            "mail.ru: 1\n",
            "yandex.ru: 1\n"
          ]
        }
      ]
    },
    {
      "cell_type": "markdown",
      "source": [
        "### Задание 5 (необязательное)\n",
        "Напишите функцию, которая будет подсчитывать сколько слов начинается на гласные, а сколько на согласные буквы в тексте (текст может быть написан как с использованием букв кириллицы, так и латиницы)."
      ],
      "metadata": {
        "id": "0MnWQb32o59_"
      }
    },
    {
      "cell_type": "code",
      "source": [
        "some_text = 'Эталонной реализацией Python является интерпретатор CPython, поддерживающий большинство активно используемых платформ. Он распространяется под свободной лицензией Python Software Foundation License, позволяющей использовать его без ограничений в любых приложениях, включая проприетарные.'"
      ],
      "metadata": {
        "id": "oyxWLJLEK-Wc"
      },
      "execution_count": 264,
      "outputs": []
    },
    {
      "cell_type": "code",
      "source": [
        "def vowels_consonants(some_text):\n",
        "  print('Слов на гласные буквы:', len(re.findall(r'(?i)\\b[aeiouауоиэяюёе]\\w*', some_text)))\n",
        "  print('Слов на согласные буквы:', len(re.findall(r'(?i)\\b[bcdfghjklmnpqrstvwxzбвгджзйклмнпрстфхцчшщ]\\w*', some_text)))"
      ],
      "metadata": {
        "id": "HDbcbFYYtlM4"
      },
      "execution_count": 265,
      "outputs": []
    },
    {
      "cell_type": "code",
      "source": [
        "vowels_consonants(some_text)"
      ],
      "metadata": {
        "colab": {
          "base_uri": "https://localhost:8080/"
        },
        "id": "FHWaS_MQuyls",
        "outputId": "fa2820cf-36bb-41df-d866-469715030d6f"
      },
      "execution_count": 266,
      "outputs": [
        {
          "output_type": "stream",
          "name": "stdout",
          "text": [
            "Слов на гласные буквы: 9\n",
            "Слов на согласные буквы: 21\n"
          ]
        }
      ]
    },
    {
      "cell_type": "code",
      "source": [
        "vowels_consonants('F Ии Е ш ц L O x ergh ii')"
      ],
      "metadata": {
        "colab": {
          "base_uri": "https://localhost:8080/"
        },
        "id": "4_Hartbau1_-",
        "outputId": "f2801132-6b8e-4c7f-f230-3118be9ed068"
      },
      "execution_count": 267,
      "outputs": [
        {
          "output_type": "stream",
          "name": "stdout",
          "text": [
            "Слов на гласные буквы: 5\n",
            "Слов на согласные буквы: 5\n"
          ]
        }
      ]
    },
    {
      "cell_type": "markdown",
      "source": [
        "### Задание 6 (необязательное)\n",
        "Напишите функцию, которая будет проверять номер сотового телефона на валидность (только для российского формата), если он валиден, то переводить его в формат:\n",
        "+7-xxx-xxx-xx-xx\n",
        "Постарайтесь предусмотреть как можно больше адекватных форматов изначального ввода номера."
      ],
      "metadata": {
        "id": "e-Rkl0O9vlwM"
      }
    },
    {
      "cell_type": "code",
      "source": [
        "def is_valid_phone(phone):\n",
        "  pattern = r'\\+?[78][\\s\\-]?\\(?(9\\d{2})\\)?[\\s\\-]?(\\d{3})[\\s\\-]?(\\d{2})[\\s\\-]?(\\d{2})'\n",
        "  if re.fullmatch(pattern, phone):\n",
        "    return re.sub(pattern, r'+7-\\1-\\2-\\3-\\4', phone)\n",
        "  return 'Номер не валиден'"
      ],
      "metadata": {
        "id": "pFdRS0ZM-_0e"
      },
      "execution_count": 268,
      "outputs": []
    },
    {
      "cell_type": "code",
      "source": [
        "phone = '+7 955 555-55-55'\n",
        "\n",
        "is_valid_phone(phone)"
      ],
      "metadata": {
        "colab": {
          "base_uri": "https://localhost:8080/",
          "height": 37
        },
        "id": "UbraTkILIP9y",
        "outputId": "c5e418b8-d59b-4a38-c4d1-d71767b19b9d"
      },
      "execution_count": 269,
      "outputs": [
        {
          "output_type": "execute_result",
          "data": {
            "application/vnd.google.colaboratory.intrinsic+json": {
              "type": "string"
            },
            "text/plain": [
              "'+7-955-555-55-55'"
            ]
          },
          "metadata": {},
          "execution_count": 269
        }
      ]
    },
    {
      "cell_type": "code",
      "source": [
        "phone = '8(955)555-55-55'\n",
        "\n",
        "is_valid_phone(phone)"
      ],
      "metadata": {
        "colab": {
          "base_uri": "https://localhost:8080/",
          "height": 37
        },
        "id": "AR8OlqwHIZHe",
        "outputId": "8e2c2ddc-cc55-4928-ddea-630a82c6e47e"
      },
      "execution_count": 270,
      "outputs": [
        {
          "output_type": "execute_result",
          "data": {
            "application/vnd.google.colaboratory.intrinsic+json": {
              "type": "string"
            },
            "text/plain": [
              "'+7-955-555-55-55'"
            ]
          },
          "metadata": {},
          "execution_count": 270
        }
      ]
    },
    {
      "cell_type": "code",
      "source": [
        "phone = '+7 955 555 55 55'\n",
        "\n",
        "is_valid_phone(phone)"
      ],
      "metadata": {
        "colab": {
          "base_uri": "https://localhost:8080/",
          "height": 37
        },
        "id": "7bJIiPHXIjsQ",
        "outputId": "647e1024-eca4-4460-dbd4-2de504face2d"
      },
      "execution_count": 271,
      "outputs": [
        {
          "output_type": "execute_result",
          "data": {
            "application/vnd.google.colaboratory.intrinsic+json": {
              "type": "string"
            },
            "text/plain": [
              "'+7-955-555-55-55'"
            ]
          },
          "metadata": {},
          "execution_count": 271
        }
      ]
    },
    {
      "cell_type": "code",
      "source": [
        "phone = '7(955) 555-55-55'\n",
        "\n",
        "is_valid_phone(phone)"
      ],
      "metadata": {
        "colab": {
          "base_uri": "https://localhost:8080/",
          "height": 37
        },
        "id": "6imNTFX-Isvm",
        "outputId": "69bdefe7-816e-4832-b564-bb664d70b180"
      },
      "execution_count": 272,
      "outputs": [
        {
          "output_type": "execute_result",
          "data": {
            "application/vnd.google.colaboratory.intrinsic+json": {
              "type": "string"
            },
            "text/plain": [
              "'+7-955-555-55-55'"
            ]
          },
          "metadata": {},
          "execution_count": 272
        }
      ]
    },
    {
      "cell_type": "code",
      "source": [
        "phone = '423-555-55-5555'\n",
        "\n",
        "is_valid_phone(phone)"
      ],
      "metadata": {
        "colab": {
          "base_uri": "https://localhost:8080/",
          "height": 37
        },
        "id": "cTFr0gvZIxTS",
        "outputId": "2f284b50-cd6f-4f99-f73f-1def73e5d891"
      },
      "execution_count": 273,
      "outputs": [
        {
          "output_type": "execute_result",
          "data": {
            "application/vnd.google.colaboratory.intrinsic+json": {
              "type": "string"
            },
            "text/plain": [
              "'Номер не валиден'"
            ]
          },
          "metadata": {},
          "execution_count": 273
        }
      ]
    },
    {
      "cell_type": "code",
      "source": [
        "phone = '123-456-789'\n",
        "\n",
        "is_valid_phone(phone)"
      ],
      "metadata": {
        "colab": {
          "base_uri": "https://localhost:8080/",
          "height": 37
        },
        "id": "yEbk_hcBI3Ff",
        "outputId": "361d261e-7891-4a82-80a9-386ded77e43e"
      },
      "execution_count": 274,
      "outputs": [
        {
          "output_type": "execute_result",
          "data": {
            "application/vnd.google.colaboratory.intrinsic+json": {
              "type": "string"
            },
            "text/plain": [
              "'Номер не валиден'"
            ]
          },
          "metadata": {},
          "execution_count": 274
        }
      ]
    }
  ]
}
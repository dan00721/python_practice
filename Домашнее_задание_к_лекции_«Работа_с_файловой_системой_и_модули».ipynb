{
  "nbformat": 4,
  "nbformat_minor": 0,
  "metadata": {
    "colab": {
      "name": "Домашнее задание к лекции «Работа с файловой системой и модули».ipynb",
      "provenance": [],
      "collapsed_sections": [],
      "authorship_tag": "ABX9TyM8b1cK7eiXQFhYEOW8QxwB",
      "include_colab_link": true
    },
    "kernelspec": {
      "name": "python3",
      "display_name": "Python 3"
    },
    "language_info": {
      "name": "python"
    }
  },
  "cells": [
    {
      "cell_type": "markdown",
      "metadata": {
        "id": "view-in-github",
        "colab_type": "text"
      },
      "source": [
        "<a href=\"https://colab.research.google.com/github/dan00721/python_practice/blob/main/%D0%94%D0%BE%D0%BC%D0%B0%D1%88%D0%BD%D0%B5%D0%B5_%D0%B7%D0%B0%D0%B4%D0%B0%D0%BD%D0%B8%D0%B5_%D0%BA_%D0%BB%D0%B5%D0%BA%D1%86%D0%B8%D0%B8_%C2%AB%D0%A0%D0%B0%D0%B1%D0%BE%D1%82%D0%B0_%D1%81_%D1%84%D0%B0%D0%B9%D0%BB%D0%BE%D0%B2%D0%BE%D0%B9_%D1%81%D0%B8%D1%81%D1%82%D0%B5%D0%BC%D0%BE%D0%B9_%D0%B8_%D0%BC%D0%BE%D0%B4%D1%83%D0%BB%D0%B8%C2%BB.ipynb\" target=\"_parent\"><img src=\"https://colab.research.google.com/assets/colab-badge.svg\" alt=\"Open In Colab\"/></a>"
      ]
    },
    {
      "cell_type": "markdown",
      "source": [
        "Переведите содержимое файла purchase_log.txt в словарь purchases вида:\n",
        "{‘1840e0b9d4’: ‘Продукты’, …}. \n",
        "Cодержимое purchase_log.txt помещается в оперативную память компьютера."
      ],
      "metadata": {
        "id": "U8oVRBNZxDnQ"
      }
    },
    {
      "cell_type": "code",
      "execution_count": 55,
      "metadata": {
        "id": "AAb9enO2w9Ed"
      },
      "outputs": [],
      "source": [
        "f = open('purchase_log.txt', encoding='utf-8')"
      ]
    },
    {
      "cell_type": "code",
      "source": [
        "f.__sizeof__()"
      ],
      "metadata": {
        "colab": {
          "base_uri": "https://localhost:8080/"
        },
        "id": "w7TQnSHFx-wx",
        "outputId": "e5438bfb-f44f-4822-8023-84218ca2e4e9"
      },
      "execution_count": 56,
      "outputs": [
        {
          "output_type": "execute_result",
          "data": {
            "text/plain": [
              "192"
            ]
          },
          "metadata": {},
          "execution_count": 56
        }
      ]
    },
    {
      "cell_type": "code",
      "source": [
        "content = f.readlines()"
      ],
      "metadata": {
        "id": "hAuctQeLyJQw"
      },
      "execution_count": 57,
      "outputs": []
    },
    {
      "cell_type": "code",
      "source": [
        "content[:5] # список строк"
      ],
      "metadata": {
        "colab": {
          "base_uri": "https://localhost:8080/"
        },
        "id": "Bgwr4UM3yjJ2",
        "outputId": "130e4a3e-ef19-4495-9d6e-edd3c114181f"
      },
      "execution_count": 58,
      "outputs": [
        {
          "output_type": "execute_result",
          "data": {
            "text/plain": [
              "['{\"user_id\": \"user_id\", \"category\": \"category\"}\\n',\n",
              " '{\"user_id\": \"1840e0b9d4\", \"category\": \"Продукты\"}\\n',\n",
              " '{\"user_id\": \"4e4f90fcfb\", \"category\": \"Электроника\"}\\n',\n",
              " '{\"user_id\": \"afea8d72fc\", \"category\": \"Электроника\"}\\n',\n",
              " '{\"user_id\": \"373a6055fe\", \"category\": \"Бытовая техника\"}\\n']"
            ]
          },
          "metadata": {},
          "execution_count": 58
        }
      ]
    },
    {
      "cell_type": "code",
      "source": [
        "import json"
      ],
      "metadata": {
        "id": "XscyNOvo3jZ7"
      },
      "execution_count": 59,
      "outputs": []
    },
    {
      "cell_type": "code",
      "source": [
        "# построчное чтение файла\n",
        "i = 0\n",
        "purchase_dict = {}\n",
        "\n",
        "with open('purchase_log.txt') as f:\n",
        "  for line in f:\n",
        "    line = line.strip()\n",
        "    dict_ = json.loads(line) # перевод строки в словарь\n",
        "\n",
        "    if i != 0: # исключаем заголовки столбцов\n",
        "      purchase_dict[dict_['user_id']] = dict_['category'] # результирующий словарь\n",
        "    i += 1"
      ],
      "metadata": {
        "id": "pcY5dH9E4knb"
      },
      "execution_count": 60,
      "outputs": []
    },
    {
      "cell_type": "code",
      "source": [
        "i = 0\n",
        "\n",
        "for key, value in purchase_dict.items():\n",
        "  print(key, value)\n",
        "\n",
        "  i += 1\n",
        "  if i > 5:\n",
        "    break"
      ],
      "metadata": {
        "colab": {
          "base_uri": "https://localhost:8080/"
        },
        "id": "yTfi7MPQ9Fje",
        "outputId": "afa758b5-aea4-4d67-9adf-818d75377772"
      },
      "execution_count": 61,
      "outputs": [
        {
          "output_type": "stream",
          "name": "stdout",
          "text": [
            "1840e0b9d4 Продукты\n",
            "4e4f90fcfb Электроника\n",
            "afea8d72fc Электроника\n",
            "373a6055fe Бытовая техника\n",
            "9b2ab046f3 Электроника\n",
            "9f39d307c3 Электроника\n"
          ]
        }
      ]
    },
    {
      "cell_type": "code",
      "source": [
        "# перевод каждого элемента списка content(все содержимое файла) в словарь\n",
        "i = 0\n",
        "\n",
        "for element in content:\n",
        "  element = element.strip()\n",
        "  dict_ = json.loads(element)\n",
        "  if i != 0: \n",
        "    purchase_dict[dict_['user_id']] = dict_['category']\n",
        "  i += 1\n",
        "\n",
        "\n",
        "i = 0\n",
        "\n",
        "for key, value in purchase_dict.items():\n",
        "  print(key, value)\n",
        "\n",
        "  i += 1\n",
        "  if i > 5:\n",
        "    break"
      ],
      "metadata": {
        "colab": {
          "base_uri": "https://localhost:8080/"
        },
        "id": "lcTu2i-sB6Pi",
        "outputId": "52e6b85f-d5be-447e-d918-c762248ed009"
      },
      "execution_count": 62,
      "outputs": [
        {
          "output_type": "stream",
          "name": "stdout",
          "text": [
            "1840e0b9d4 Продукты\n",
            "4e4f90fcfb Электроника\n",
            "afea8d72fc Электроника\n",
            "373a6055fe Бытовая техника\n",
            "9b2ab046f3 Электроника\n",
            "9f39d307c3 Электроника\n"
          ]
        }
      ]
    },
    {
      "cell_type": "markdown",
      "source": [
        "Для каждого user_id в файле visit_log.csv определите третий столбец с категорией покупки (если покупка была, сам файл visit_log.csv изменять не надо). Запишите в файл funnel.csv визиты из файла visit_log.csv, в которых были покупки с указанием категории.\n",
        "Содержимое visit_log.csv - не помещается в оперативную память; используйте только построчную обработку этого файла."
      ],
      "metadata": {
        "id": "v-GN40IzIHFG"
      }
    },
    {
      "cell_type": "code",
      "source": [
        "f = open('visit_log.csv', encoding='utf-8')"
      ],
      "metadata": {
        "id": "Q5c3j6fIFX--"
      },
      "execution_count": 67,
      "outputs": []
    },
    {
      "cell_type": "code",
      "source": [
        "i = 0\n",
        "for line in f:\n",
        "  line = line.strip()\n",
        "  print(line)\n",
        "  \n",
        "  i += 1\n",
        "  if i > 10:\n",
        "    break"
      ],
      "metadata": {
        "colab": {
          "base_uri": "https://localhost:8080/"
        },
        "id": "1P5P2kxKKkjZ",
        "outputId": "a9f469ff-b898-4254-c377-c5fd70c03423"
      },
      "execution_count": 68,
      "outputs": [
        {
          "output_type": "stream",
          "name": "stdout",
          "text": [
            "user_id,source\n",
            "6450655ae8,other\n",
            "b4ea53e670,other\n",
            "0e37347152,other\n",
            "96064ae9e0,other\n",
            "e1bd168161,context\n",
            "71bcf169b4,other\n",
            "e0aee73c5d,other\n",
            "1f8845e157,context\n",
            "78d22c5c78,other\n",
            "dd85040770,other\n"
          ]
        }
      ]
    },
    {
      "cell_type": "code",
      "source": [
        "with open('visit_log.csv', 'r') as f:\n",
        "  with open('funnel.csv', 'w') as f2write:\n",
        "    for line in f:\n",
        "      line = line.strip().split(',')\n",
        "      if line[0] == 'user_id': # заголовок\n",
        "        line.append('category') # добавляем заголовок третьего столбца\n",
        "        f2write.write(','.join(line) + '\\n')\n",
        "      if line[0] in purchase_dict: # была ли покупка\n",
        "        line.append(purchase_dict[line[0]]) # добавляем категорию покупки\n",
        "        f2write.write(','.join(line) + '\\n')"
      ],
      "metadata": {
        "id": "x-fD0pAgLChv"
      },
      "execution_count": 69,
      "outputs": []
    },
    {
      "cell_type": "code",
      "source": [
        "# содержимое файла funnel.csv\n",
        "f = open('funnel.csv', 'r', encoding='utf-8')\n",
        "\n",
        "i = 0\n",
        "for line in f:\n",
        "  print(line)\n",
        "\n",
        "  i += 1\n",
        "  if i > 10:\n",
        "    break"
      ],
      "metadata": {
        "colab": {
          "base_uri": "https://localhost:8080/"
        },
        "id": "lSHukETmbAn9",
        "outputId": "f40c1739-0628-4ffd-ea16-5f6c0f217adf"
      },
      "execution_count": 70,
      "outputs": [
        {
          "output_type": "stream",
          "name": "stdout",
          "text": [
            "user_id,source,category\n",
            "\n",
            "1840e0b9d4,other,Продукты\n",
            "\n",
            "4e4f90fcfb,context,Электроника\n",
            "\n",
            "afea8d72fc,other,Электроника\n",
            "\n",
            "2824221f38,email,Продукты\n",
            "\n",
            "373a6055fe,other,Бытовая техника\n",
            "\n",
            "9b2ab046f3,other,Электроника\n",
            "\n",
            "9f39d307c3,context,Электроника\n",
            "\n",
            "44edeffc91,context,Продукты\n",
            "\n",
            "704474fa2d,other,Продукты\n",
            "\n",
            "1de31be403,other,Бытовая техника\n",
            "\n"
          ]
        }
      ]
    }
  ]
}